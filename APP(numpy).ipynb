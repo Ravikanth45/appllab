{
  "nbformat": 4,
  "nbformat_minor": 0,
  "metadata": {
    "colab": {
      "provenance": [],
      "toc_visible": true,
      "include_colab_link": true
    },
    "kernelspec": {
      "name": "python3",
      "display_name": "Python 3"
    },
    "language_info": {
      "name": "python"
    }
  },
  "cells": [
    {
      "cell_type": "markdown",
      "metadata": {
        "id": "view-in-github",
        "colab_type": "text"
      },
      "source": [
        "<a href=\"https://colab.research.google.com/github/Ravikanth45/appllab/blob/colab-appl/APP(numpy).ipynb\" target=\"_parent\"><img src=\"https://colab.research.google.com/assets/colab-badge.svg\" alt=\"Open In Colab\"/></a>"
      ]
    },
    {
      "cell_type": "code",
      "source": [
        "import numpy as np"
      ],
      "metadata": {
        "id": "2uUXbSe0XM0z"
      },
      "execution_count": null,
      "outputs": []
    },
    {
      "cell_type": "markdown",
      "source": [
        "## **0 dimensional array**"
      ],
      "metadata": {
        "id": "BzbTKrQy_OLP"
      }
    },
    {
      "cell_type": "code",
      "source": [
        "b=np.array(534)\n",
        "print(b)"
      ],
      "metadata": {
        "colab": {
          "base_uri": "https://localhost:8080/"
        },
        "outputId": "ef69029c-a3c1-4247-ad3c-72fc55c7f0ee",
        "id": "5uvT9y0S7-M3"
      },
      "execution_count": null,
      "outputs": [
        {
          "output_type": "stream",
          "name": "stdout",
          "text": [
            "534\n"
          ]
        }
      ]
    },
    {
      "cell_type": "code",
      "source": [
        "b=np.array(5343)\n",
        "print(b)"
      ],
      "metadata": {
        "colab": {
          "base_uri": "https://localhost:8080/"
        },
        "outputId": "141ac0cb-2e18-4c3f-e33a-c544c80de9ba",
        "id": "c9PiLSrO7-_n"
      },
      "execution_count": null,
      "outputs": [
        {
          "output_type": "stream",
          "name": "stdout",
          "text": [
            "5343\n"
          ]
        }
      ]
    },
    {
      "cell_type": "code",
      "source": [
        "b=np.array(200)\n",
        "print(b)"
      ],
      "metadata": {
        "colab": {
          "base_uri": "https://localhost:8080/"
        },
        "id": "nrzxrD94_Al9",
        "outputId": "a30a5a17-9ab0-47c8-a6b8-5226381ff16c"
      },
      "execution_count": null,
      "outputs": [
        {
          "output_type": "stream",
          "name": "stdout",
          "text": [
            "200\n"
          ]
        }
      ]
    },
    {
      "cell_type": "markdown",
      "source": [
        "# **1-DIMENSION ARRAY**\n"
      ],
      "metadata": {
        "id": "8NyG0HCg_fpg"
      }
    },
    {
      "cell_type": "markdown",
      "source": [
        "**collection of 0 elements is from 1-dimension**"
      ],
      "metadata": {
        "id": "j9Um5aBcsDLu"
      }
    },
    {
      "cell_type": "code",
      "source": [
        "c=np.array([200,300])\n",
        "print(c)"
      ],
      "metadata": {
        "colab": {
          "base_uri": "https://localhost:8080/"
        },
        "id": "AcqeMgVT_lGq",
        "outputId": "184376a0-e8f3-42d3-abd6-f1f94aaf13c8"
      },
      "execution_count": null,
      "outputs": [
        {
          "output_type": "stream",
          "name": "stdout",
          "text": [
            "[200 300]\n"
          ]
        }
      ]
    },
    {
      "cell_type": "code",
      "source": [
        "c=np.array([5787,57])\n",
        "print(c)"
      ],
      "metadata": {
        "colab": {
          "base_uri": "https://localhost:8080/"
        },
        "outputId": "2d47ff43-7275-49d8-d2d7-aded79f2ee53",
        "id": "CXkqqIor8ISo"
      },
      "execution_count": null,
      "outputs": [
        {
          "output_type": "stream",
          "name": "stdout",
          "text": [
            "[5787   57]\n"
          ]
        }
      ]
    },
    {
      "cell_type": "code",
      "source": [
        "c=np.array([245,145])\n",
        "print(c)"
      ],
      "metadata": {
        "colab": {
          "base_uri": "https://localhost:8080/"
        },
        "outputId": "60f8fb40-f97a-40e9-eb0b-b8848dcfd0e2",
        "id": "GRvICJZL8IUj"
      },
      "execution_count": null,
      "outputs": [
        {
          "output_type": "stream",
          "name": "stdout",
          "text": [
            "[245 145]\n"
          ]
        }
      ]
    },
    {
      "cell_type": "code",
      "source": [
        "c=np.array([454,245])\n",
        "print(c)"
      ],
      "metadata": {
        "colab": {
          "base_uri": "https://localhost:8080/"
        },
        "outputId": "2131fdbb-9957-4714-8025-a23d2d6788e5",
        "id": "HjPq75fO8IXJ"
      },
      "execution_count": null,
      "outputs": [
        {
          "output_type": "stream",
          "name": "stdout",
          "text": [
            "[454 245]\n"
          ]
        }
      ]
    },
    {
      "cell_type": "markdown",
      "source": [
        "# **2 dimensional array**"
      ],
      "metadata": {
        "id": "-JyBo992_77y"
      }
    },
    {
      "cell_type": "code",
      "source": [
        "d=np.array([[200,300],[400,500]])\n",
        "print(d)"
      ],
      "metadata": {
        "colab": {
          "base_uri": "https://localhost:8080/"
        },
        "id": "AssynGoQAE7q",
        "outputId": "1055981d-3c5a-4119-98db-a9798a188e5f"
      },
      "execution_count": null,
      "outputs": [
        {
          "output_type": "stream",
          "name": "stdout",
          "text": [
            "[[200 300]\n",
            " [400 500]]\n"
          ]
        }
      ]
    },
    {
      "cell_type": "code",
      "source": [
        "d=np.array([[578,5784],[574,548]])\n",
        "print(d)"
      ],
      "metadata": {
        "colab": {
          "base_uri": "https://localhost:8080/"
        },
        "outputId": "5cb2ce4c-2601-4894-d1fe-b9a4a77155f0",
        "id": "5GqyEyxS8Y9o"
      },
      "execution_count": null,
      "outputs": [
        {
          "output_type": "stream",
          "name": "stdout",
          "text": [
            "[[ 578 5784]\n",
            " [ 574  548]]\n"
          ]
        }
      ]
    },
    {
      "cell_type": "code",
      "source": [
        "d=np.array([[200,300],[25485,545]])\n",
        "print(d)"
      ],
      "metadata": {
        "colab": {
          "base_uri": "https://localhost:8080/"
        },
        "outputId": "b2d67a06-9a67-4575-f129-9370fe8dfa61",
        "id": "nnmtewD08ZBF"
      },
      "execution_count": null,
      "outputs": [
        {
          "output_type": "stream",
          "name": "stdout",
          "text": [
            "[[  200   300]\n",
            " [25485   545]]\n"
          ]
        }
      ]
    },
    {
      "cell_type": "code",
      "source": [
        "d=np.array([[5746,58786],[8657,215374]])\n",
        "print(d)"
      ],
      "metadata": {
        "colab": {
          "base_uri": "https://localhost:8080/"
        },
        "outputId": "aa3a6fe9-1df2-4c10-fa43-a32e8b1403f6",
        "id": "YYiycFkx8ZEU"
      },
      "execution_count": null,
      "outputs": [
        {
          "output_type": "stream",
          "name": "stdout",
          "text": [
            "[[  5746  58786]\n",
            " [  8657 215374]]\n"
          ]
        }
      ]
    },
    {
      "cell_type": "markdown",
      "source": [
        "# **3 dimensional array**"
      ],
      "metadata": {
        "id": "YT9c6qHVBumY"
      }
    },
    {
      "cell_type": "code",
      "source": [
        "e=np.array([[[200,300],[400,500]],[[600,700],[800,900]]])\n",
        "print(e)"
      ],
      "metadata": {
        "colab": {
          "base_uri": "https://localhost:8080/"
        },
        "id": "GkOoa7chBhCQ",
        "outputId": "a7ee1605-ee16-4b9c-c181-7c9d1158b6ec"
      },
      "execution_count": null,
      "outputs": [
        {
          "output_type": "stream",
          "name": "stdout",
          "text": [
            "[[[200 300]\n",
            "  [400 500]]\n",
            "\n",
            " [[600 700]\n",
            "  [800 900]]]\n"
          ]
        }
      ]
    },
    {
      "cell_type": "code",
      "source": [
        "e=np.array([[[200,300],[400,500]],[[600,700],[800,900]]])\n",
        "print(e)"
      ],
      "metadata": {
        "colab": {
          "base_uri": "https://localhost:8080/"
        },
        "outputId": "28297742-51cf-4758-f286-904e20c48a7c",
        "id": "d4Gs8KP18rh7"
      },
      "execution_count": null,
      "outputs": [
        {
          "output_type": "stream",
          "name": "stdout",
          "text": [
            "[[[200 300]\n",
            "  [400 500]]\n",
            "\n",
            " [[600 700]\n",
            "  [800 900]]]\n"
          ]
        }
      ]
    },
    {
      "cell_type": "code",
      "source": [
        "e=np.array([[[200,300],[400,500]],[[600,700],[800,900]]])\n",
        "print(e)"
      ],
      "metadata": {
        "colab": {
          "base_uri": "https://localhost:8080/"
        },
        "outputId": "7672a2e4-a4e3-460a-b04e-b5be9e855fa9",
        "id": "LNsGqFJk8rqN"
      },
      "execution_count": null,
      "outputs": [
        {
          "output_type": "stream",
          "name": "stdout",
          "text": [
            "[[[200 300]\n",
            "  [400 500]]\n",
            "\n",
            " [[600 700]\n",
            "  [800 900]]]\n"
          ]
        }
      ]
    },
    {
      "cell_type": "code",
      "source": [
        "e=np.array([[[266,300],[5485,54787]],[[546,8646],[454,454]]])\n",
        "print(e)"
      ],
      "metadata": {
        "colab": {
          "base_uri": "https://localhost:8080/"
        },
        "outputId": "b7e213ac-e868-4a1d-ef83-af36849b3a0f",
        "id": "N-o6SQxz8r17"
      },
      "execution_count": null,
      "outputs": [
        {
          "output_type": "stream",
          "name": "stdout",
          "text": [
            "[[[  266   300]\n",
            "  [ 5485 54787]]\n",
            "\n",
            " [[  546  8646]\n",
            "  [  454   454]]]\n"
          ]
        }
      ]
    },
    {
      "cell_type": "markdown",
      "source": [
        "#**NDMIN**"
      ],
      "metadata": {
        "id": "LyYTHBYqEdyG"
      }
    },
    {
      "cell_type": "code",
      "source": [
        "arr=np.array([1,2,3,4],ndmin=3)\n",
        "print(arr)\n",
        "print(arr.ndim)"
      ],
      "metadata": {
        "colab": {
          "base_uri": "https://localhost:8080/"
        },
        "id": "kttH5rBVEqMk",
        "outputId": "1c862696-7578-466a-d8f0-f59599e06fa1"
      },
      "execution_count": null,
      "outputs": [
        {
          "output_type": "stream",
          "name": "stdout",
          "text": [
            "[[[1 2 3 4]]]\n",
            "3\n"
          ]
        }
      ]
    },
    {
      "cell_type": "code",
      "source": [
        "arr=np.array([1,2,3,4],ndmin=2)\n",
        "print(arr)\n",
        "print(arr.ndim)"
      ],
      "metadata": {
        "colab": {
          "base_uri": "https://localhost:8080/"
        },
        "outputId": "d61465e8-3190-4d95-a637-a6e02abe52e1",
        "id": "_-6z-sZ-FErK"
      },
      "execution_count": null,
      "outputs": [
        {
          "output_type": "stream",
          "name": "stdout",
          "text": [
            "[[1 2 3 4]]\n",
            "2\n"
          ]
        }
      ]
    },
    {
      "cell_type": "code",
      "source": [
        "arr=np.array([8,4,85,4],ndmin=3)\n",
        "print(arr)\n",
        "print(arr.ndim)"
      ],
      "metadata": {
        "colab": {
          "base_uri": "https://localhost:8080/"
        },
        "outputId": "7f7b3849-5400-4a01-8bfe-db2fd3e63654",
        "id": "1Rh3QVukFEt5"
      },
      "execution_count": null,
      "outputs": [
        {
          "output_type": "stream",
          "name": "stdout",
          "text": [
            "[[[ 8  4 85  4]]]\n",
            "3\n"
          ]
        }
      ]
    },
    {
      "cell_type": "code",
      "source": [
        "arr=np.array([748,8578,5,54],ndmin=3)\n",
        "print(arr)\n",
        "print(arr.ndim)"
      ],
      "metadata": {
        "colab": {
          "base_uri": "https://localhost:8080/"
        },
        "outputId": "71e6525d-3743-4cd5-e63c-9a7ddf612753",
        "id": "ZjLM7V4gFE2q"
      },
      "execution_count": null,
      "outputs": [
        {
          "output_type": "stream",
          "name": "stdout",
          "text": [
            "[[[ 748 8578    5   54]]]\n",
            "3\n"
          ]
        }
      ]
    },
    {
      "cell_type": "markdown",
      "source": [
        "#**ARRAY**"
      ],
      "metadata": {
        "id": "0CetG_FjFSP9"
      }
    },
    {
      "cell_type": "code",
      "source": [
        "arr=np.array([1,2,3,4,5,6,8])\n",
        "print(arr[1])\n",
        "print(arr[3]+arr[4])"
      ],
      "metadata": {
        "colab": {
          "base_uri": "https://localhost:8080/"
        },
        "id": "SIRMXnJyHRlW",
        "outputId": "0bc0a0c3-d6bd-4284-e9b8-297762c79f34"
      },
      "execution_count": null,
      "outputs": [
        {
          "output_type": "stream",
          "name": "stdout",
          "text": [
            "2\n",
            "9\n"
          ]
        }
      ]
    },
    {
      "cell_type": "markdown",
      "source": [
        "#**2D array**\n"
      ],
      "metadata": {
        "id": "5RdBbhnYH1f0"
      }
    },
    {
      "cell_type": "code",
      "source": [
        "arr=np.array([[1,2,3,4],[5,6,7,8,9]])\n",
        "print(arr[0],[1])"
      ],
      "metadata": {
        "colab": {
          "base_uri": "https://localhost:8080/"
        },
        "id": "SBsBnZGuH_ax",
        "outputId": "f385ca67-d26a-4d85-dca7-ebbf8e258312"
      },
      "execution_count": null,
      "outputs": [
        {
          "output_type": "stream",
          "name": "stdout",
          "text": [
            "[1, 2, 3, 4] [1]\n"
          ]
        },
        {
          "output_type": "stream",
          "name": "stderr",
          "text": [
            "<ipython-input-23-ec2f9e724333>:1: VisibleDeprecationWarning: Creating an ndarray from ragged nested sequences (which is a list-or-tuple of lists-or-tuples-or ndarrays with different lengths or shapes) is deprecated. If you meant to do this, you must specify 'dtype=object' when creating the ndarray.\n",
            "  arr=np.array([[1,2,3,4],[5,6,7,8,9]])\n"
          ]
        }
      ]
    },
    {
      "cell_type": "markdown",
      "source": [
        "#**3D array**"
      ],
      "metadata": {
        "id": "vbDhGrZ7X1jh"
      }
    },
    {
      "cell_type": "code",
      "source": [
        "arr=np.array([[[1,2,3],[4,5,6]],[[7,8,9],[10,11,12]]])\n",
        "print(arr[0,1,2])\n",
        "print(arr[0,0,1])"
      ],
      "metadata": {
        "colab": {
          "base_uri": "https://localhost:8080/"
        },
        "outputId": "871f7d28-466c-42e1-fae2-235f410d57bc",
        "id": "aGB73uodX1ji"
      },
      "execution_count": null,
      "outputs": [
        {
          "output_type": "stream",
          "name": "stdout",
          "text": [
            "6\n",
            "2\n"
          ]
        }
      ]
    },
    {
      "cell_type": "markdown",
      "source": [
        "#**NEGATIVE INDEXING**"
      ],
      "metadata": {
        "id": "U2W1VMWbJFJh"
      }
    },
    {
      "cell_type": "code",
      "source": [
        "arr=np.array([[1,2,3,4,5],[6,7,8,9,10]])\n",
        "print(arr[1,-1])"
      ],
      "metadata": {
        "colab": {
          "base_uri": "https://localhost:8080/"
        },
        "id": "7nAlvJekJMYe",
        "outputId": "b1571254-c976-44cb-b2de-1da11cbb3b45"
      },
      "execution_count": null,
      "outputs": [
        {
          "output_type": "stream",
          "name": "stdout",
          "text": [
            "10\n"
          ]
        }
      ]
    },
    {
      "cell_type": "markdown",
      "source": [
        "#**ARRAY DATASETS**"
      ],
      "metadata": {
        "id": "SPLkryPiJrPw"
      }
    },
    {
      "cell_type": "code",
      "source": [
        "arr=np.array([1,2,3])\n",
        "print(arr.dtype)"
      ],
      "metadata": {
        "colab": {
          "base_uri": "https://localhost:8080/"
        },
        "id": "868RfS_tJwdv",
        "outputId": "78bc9c15-ba1e-4042-d4c2-5eff6f97f6dd"
      },
      "execution_count": null,
      "outputs": [
        {
          "output_type": "stream",
          "name": "stdout",
          "text": [
            "int64\n"
          ]
        }
      ]
    },
    {
      "cell_type": "markdown",
      "source": [
        "#**converting datatype**"
      ],
      "metadata": {
        "id": "rpNdfh0CJ_KG"
      }
    },
    {
      "cell_type": "code",
      "source": [
        "arr=np.array([1.1,2.1,3.1])\n",
        "newar=arr.astype('i')\n",
        "print(newar)"
      ],
      "metadata": {
        "colab": {
          "base_uri": "https://localhost:8080/"
        },
        "id": "Lhq3FDosKHW7",
        "outputId": "c9e005a7-e0d5-4c0c-9c56-0c7c40196aa6"
      },
      "execution_count": null,
      "outputs": [
        {
          "output_type": "stream",
          "name": "stdout",
          "text": [
            "[1 2 3]\n"
          ]
        }
      ]
    },
    {
      "cell_type": "markdown",
      "source": [
        "# **asarray()**"
      ],
      "metadata": {
        "id": "wzV3fcSjCeXO"
      }
    },
    {
      "cell_type": "markdown",
      "source": [
        "**row major order(\"C\")**"
      ],
      "metadata": {
        "id": "E0mBtxUH3pMY"
      }
    },
    {
      "cell_type": "markdown",
      "source": [
        "**column major order(\"F\")**"
      ],
      "metadata": {
        "id": "Mivm3FNQ4dKb"
      }
    },
    {
      "cell_type": "markdown",
      "source": [
        "**occured in 2-Dimension array**"
      ],
      "metadata": {
        "id": "GyoR8ofZ4gHW"
      }
    },
    {
      "cell_type": "code",
      "source": [
        "a=([200,300],[400,500])\n",
        "b=np.asarray(a,order='c')\n",
        "print(d)"
      ],
      "metadata": {
        "id": "PrxP7xpVCnf0",
        "colab": {
          "base_uri": "https://localhost:8080/"
        },
        "outputId": "be4463aa-03f9-4369-f187-e7bfa2d716ee"
      },
      "execution_count": null,
      "outputs": [
        {
          "output_type": "stream",
          "name": "stdout",
          "text": [
            "[[  5746  58786]\n",
            " [  8657 215374]]\n"
          ]
        }
      ]
    },
    {
      "cell_type": "code",
      "source": [
        "for i in np.nditer(d):\n",
        "  print(i)"
      ],
      "metadata": {
        "id": "xOdh3lhMDDAW",
        "colab": {
          "base_uri": "https://localhost:8080/"
        },
        "outputId": "8e4dd602-1cdd-4ca7-e0e2-521166604152"
      },
      "execution_count": null,
      "outputs": [
        {
          "output_type": "stream",
          "name": "stdout",
          "text": [
            "5746\n",
            "58786\n",
            "8657\n",
            "215374\n"
          ]
        }
      ]
    },
    {
      "cell_type": "code",
      "source": [
        "x=([200,300],[400,500])\n",
        "y=np.asarray(a,order='F')\n",
        "print(y)"
      ],
      "metadata": {
        "id": "FDg-5oFRDUhu",
        "colab": {
          "base_uri": "https://localhost:8080/"
        },
        "outputId": "b29e1d65-7fbc-46ca-bbf6-9f27d09920e0"
      },
      "execution_count": null,
      "outputs": [
        {
          "output_type": "stream",
          "name": "stdout",
          "text": [
            "[[200 300]\n",
            " [400 500]]\n"
          ]
        }
      ]
    },
    {
      "cell_type": "code",
      "source": [
        "for i in np.nditer(y):\n",
        "  print(i)"
      ],
      "metadata": {
        "id": "wOQ2dzlnDjsf",
        "colab": {
          "base_uri": "https://localhost:8080/"
        },
        "outputId": "a9dc4946-4d25-4be8-eee9-46e6548043fc"
      },
      "execution_count": null,
      "outputs": [
        {
          "output_type": "stream",
          "name": "stdout",
          "text": [
            "200\n",
            "400\n",
            "300\n",
            "500\n"
          ]
        }
      ]
    },
    {
      "cell_type": "markdown",
      "source": [
        "# **frombuffer()**"
      ],
      "metadata": {
        "id": "QEwiN-_OELJ7"
      }
    },
    {
      "cell_type": "markdown",
      "source": [
        "#converts the string into bufffer\n",
        "#using b before the string"
      ],
      "metadata": {
        "id": "WjTAEBu_9TKS"
      }
    },
    {
      "cell_type": "code",
      "source": [
        "import numpy as np"
      ],
      "metadata": {
        "id": "Qzz7FOPka0zO"
      },
      "execution_count": null,
      "outputs": []
    },
    {
      "cell_type": "code",
      "source": [
        "Y=b'First year IT'\n",
        "np.frombuffer(Y,dtype='S1')"
      ],
      "metadata": {
        "id": "TCq2ULrOETg8",
        "colab": {
          "base_uri": "https://localhost:8080/"
        },
        "outputId": "53bd8a47-8ec5-462b-83b8-6d8b54b292e3"
      },
      "execution_count": null,
      "outputs": [
        {
          "output_type": "execute_result",
          "data": {
            "text/plain": [
              "array([b'F', b'i', b'r', b's', b't', b' ', b'y', b'e', b'a', b'r', b' ',\n",
              "       b'I', b'T'], dtype='|S1')"
            ]
          },
          "metadata": {},
          "execution_count": 34
        }
      ]
    },
    {
      "cell_type": "code",
      "source": [
        "np.frombuffer(Y,dtype='S1',count=3)"
      ],
      "metadata": {
        "id": "wJI_24UZFeKS",
        "colab": {
          "base_uri": "https://localhost:8080/"
        },
        "outputId": "a1ae8d6a-d1fc-4954-e8b8-dd273114ffd0"
      },
      "execution_count": null,
      "outputs": [
        {
          "output_type": "execute_result",
          "data": {
            "text/plain": [
              "array([b'F', b'i', b'r'], dtype='|S1')"
            ]
          },
          "metadata": {},
          "execution_count": 35
        }
      ]
    },
    {
      "cell_type": "code",
      "source": [
        "np.frombuffer(Y,dtype='S1',offset=8)"
      ],
      "metadata": {
        "id": "vylr8-RlGE-v",
        "colab": {
          "base_uri": "https://localhost:8080/"
        },
        "outputId": "63f67ba2-f6da-474a-c986-a868487c84c4"
      },
      "execution_count": null,
      "outputs": [
        {
          "output_type": "execute_result",
          "data": {
            "text/plain": [
              "array([b'a', b'r', b' ', b'I', b'T'], dtype='|S1')"
            ]
          },
          "metadata": {},
          "execution_count": 36
        }
      ]
    },
    {
      "cell_type": "code",
      "source": [
        "np.frombuffer(Y,dtype='S1',count=2,offset=8)"
      ],
      "metadata": {
        "id": "6UKdC0faGa1G",
        "colab": {
          "base_uri": "https://localhost:8080/"
        },
        "outputId": "ad8cb01d-c58a-4b08-e30b-b6b0f4053031"
      },
      "execution_count": null,
      "outputs": [
        {
          "output_type": "execute_result",
          "data": {
            "text/plain": [
              "array([b'a', b'r'], dtype='|S1')"
            ]
          },
          "metadata": {},
          "execution_count": 37
        }
      ]
    },
    {
      "cell_type": "markdown",
      "source": [
        "# **fromiter()**"
      ],
      "metadata": {
        "id": "NKauPkPUGrX3"
      }
    },
    {
      "cell_type": "code",
      "source": [
        "a=[100,200,300,400,500,600,700,800,900,1000]\n",
        "np.fromiter(a,dtype='S1',count=4)"
      ],
      "metadata": {
        "id": "w3b6NMH-Gw1A",
        "colab": {
          "base_uri": "https://localhost:8080/"
        },
        "outputId": "8f511ca7-7937-4b3c-d0bf-9ad2ee322eec"
      },
      "execution_count": null,
      "outputs": [
        {
          "output_type": "execute_result",
          "data": {
            "text/plain": [
              "array([b'1', b'2', b'3', b'4'], dtype='|S1')"
            ]
          },
          "metadata": {},
          "execution_count": 38
        }
      ]
    },
    {
      "cell_type": "code",
      "source": [
        "a=[100,200,300,400,500,600,700,800,900,1000]\n",
        "np.fromiter(a,dtype='S1')"
      ],
      "metadata": {
        "id": "5dxudtkJHNA7",
        "colab": {
          "base_uri": "https://localhost:8080/"
        },
        "outputId": "0509b8c9-407d-43ba-8ecd-f87e255847f5"
      },
      "execution_count": null,
      "outputs": [
        {
          "output_type": "execute_result",
          "data": {
            "text/plain": [
              "array([b'1', b'2', b'3', b'4', b'5', b'6', b'7', b'8', b'9', b'1'],\n",
              "      dtype='|S1')"
            ]
          },
          "metadata": {},
          "execution_count": 39
        }
      ]
    },
    {
      "cell_type": "markdown",
      "source": [
        "# **zeros()**"
      ],
      "metadata": {
        "id": "DEMNOGJxHShy"
      }
    },
    {
      "cell_type": "code",
      "source": [
        "a=np.zeros(10)\n",
        "print(a)"
      ],
      "metadata": {
        "colab": {
          "base_uri": "https://localhost:8080/"
        },
        "id": "JR9qFfB_HeAh",
        "outputId": "0373b000-05b9-4aa7-bac5-2945b7ae7451"
      },
      "execution_count": null,
      "outputs": [
        {
          "output_type": "stream",
          "name": "stdout",
          "text": [
            "[0. 0. 0. 0. 0. 0. 0. 0. 0. 0.]\n"
          ]
        }
      ]
    },
    {
      "cell_type": "code",
      "source": [
        "np.zeros((4,5))"
      ],
      "metadata": {
        "colab": {
          "base_uri": "https://localhost:8080/"
        },
        "id": "GOiMvygrHllS",
        "outputId": "553ece03-e5a0-48df-c7e6-fafcae702f24"
      },
      "execution_count": null,
      "outputs": [
        {
          "output_type": "execute_result",
          "data": {
            "text/plain": [
              "array([[0., 0., 0., 0., 0.],\n",
              "       [0., 0., 0., 0., 0.],\n",
              "       [0., 0., 0., 0., 0.],\n",
              "       [0., 0., 0., 0., 0.]])"
            ]
          },
          "metadata": {},
          "execution_count": 41
        }
      ]
    },
    {
      "cell_type": "code",
      "source": [
        "a=np.zeros((5,4,4))\n",
        "print(a)"
      ],
      "metadata": {
        "colab": {
          "base_uri": "https://localhost:8080/"
        },
        "id": "LVv0VhiqHrq1",
        "outputId": "bb1f750f-d8f3-4aa3-a76b-5c7e0df00d7b"
      },
      "execution_count": null,
      "outputs": [
        {
          "output_type": "stream",
          "name": "stdout",
          "text": [
            "[[[0. 0. 0. 0.]\n",
            "  [0. 0. 0. 0.]\n",
            "  [0. 0. 0. 0.]\n",
            "  [0. 0. 0. 0.]]\n",
            "\n",
            " [[0. 0. 0. 0.]\n",
            "  [0. 0. 0. 0.]\n",
            "  [0. 0. 0. 0.]\n",
            "  [0. 0. 0. 0.]]\n",
            "\n",
            " [[0. 0. 0. 0.]\n",
            "  [0. 0. 0. 0.]\n",
            "  [0. 0. 0. 0.]\n",
            "  [0. 0. 0. 0.]]\n",
            "\n",
            " [[0. 0. 0. 0.]\n",
            "  [0. 0. 0. 0.]\n",
            "  [0. 0. 0. 0.]\n",
            "  [0. 0. 0. 0.]]\n",
            "\n",
            " [[0. 0. 0. 0.]\n",
            "  [0. 0. 0. 0.]\n",
            "  [0. 0. 0. 0.]\n",
            "  [0. 0. 0. 0.]]]\n"
          ]
        }
      ]
    },
    {
      "cell_type": "code",
      "source": [
        "a=np.full((4,5),8)\n",
        "print(a)"
      ],
      "metadata": {
        "colab": {
          "base_uri": "https://localhost:8080/"
        },
        "id": "BRk1STBuH2Vs",
        "outputId": "2c307a51-872b-4eff-df64-57cc650f5dbd"
      },
      "execution_count": null,
      "outputs": [
        {
          "output_type": "stream",
          "name": "stdout",
          "text": [
            "[[8 8 8 8 8]\n",
            " [8 8 8 8 8]\n",
            " [8 8 8 8 8]\n",
            " [8 8 8 8 8]]\n"
          ]
        }
      ]
    },
    {
      "cell_type": "code",
      "source": [
        "a=np.full((4,5,6),7)\n",
        "print(a)"
      ],
      "metadata": {
        "colab": {
          "base_uri": "https://localhost:8080/"
        },
        "id": "mu_7xQGnH4mG",
        "outputId": "93e4e132-ffba-45a8-9ecb-6bfc5044d2ad"
      },
      "execution_count": null,
      "outputs": [
        {
          "output_type": "stream",
          "name": "stdout",
          "text": [
            "[[[7 7 7 7 7 7]\n",
            "  [7 7 7 7 7 7]\n",
            "  [7 7 7 7 7 7]\n",
            "  [7 7 7 7 7 7]\n",
            "  [7 7 7 7 7 7]]\n",
            "\n",
            " [[7 7 7 7 7 7]\n",
            "  [7 7 7 7 7 7]\n",
            "  [7 7 7 7 7 7]\n",
            "  [7 7 7 7 7 7]\n",
            "  [7 7 7 7 7 7]]\n",
            "\n",
            " [[7 7 7 7 7 7]\n",
            "  [7 7 7 7 7 7]\n",
            "  [7 7 7 7 7 7]\n",
            "  [7 7 7 7 7 7]\n",
            "  [7 7 7 7 7 7]]\n",
            "\n",
            " [[7 7 7 7 7 7]\n",
            "  [7 7 7 7 7 7]\n",
            "  [7 7 7 7 7 7]\n",
            "  [7 7 7 7 7 7]\n",
            "  [7 7 7 7 7 7]]]\n"
          ]
        }
      ]
    },
    {
      "cell_type": "markdown",
      "source": [
        "#**full()**"
      ],
      "metadata": {
        "id": "VlK_z28tK08-"
      }
    },
    {
      "cell_type": "code",
      "source": [
        "import numpy as np\n",
        "a=np.full([4,6],8)\n",
        "print(a)"
      ],
      "metadata": {
        "colab": {
          "base_uri": "https://localhost:8080/"
        },
        "id": "l9Xk7TDrLA4L",
        "outputId": "b0c573fe-f6b2-42a1-80ab-0da711accc24"
      },
      "execution_count": null,
      "outputs": [
        {
          "output_type": "stream",
          "name": "stdout",
          "text": [
            "[[8 8 8 8 8 8]\n",
            " [8 8 8 8 8 8]\n",
            " [8 8 8 8 8 8]\n",
            " [8 8 8 8 8 8]]\n"
          ]
        }
      ]
    },
    {
      "cell_type": "code",
      "source": [
        "a=np.full([3,4,6],8)\n",
        "print(a)"
      ],
      "metadata": {
        "colab": {
          "base_uri": "https://localhost:8080/"
        },
        "outputId": "b059d9f9-1984-4e39-fa57-b2fe87e6e5d9",
        "id": "_8W6U3AALOZh"
      },
      "execution_count": null,
      "outputs": [
        {
          "output_type": "stream",
          "name": "stdout",
          "text": [
            "[[[8 8 8 8 8 8]\n",
            "  [8 8 8 8 8 8]\n",
            "  [8 8 8 8 8 8]\n",
            "  [8 8 8 8 8 8]]\n",
            "\n",
            " [[8 8 8 8 8 8]\n",
            "  [8 8 8 8 8 8]\n",
            "  [8 8 8 8 8 8]\n",
            "  [8 8 8 8 8 8]]\n",
            "\n",
            " [[8 8 8 8 8 8]\n",
            "  [8 8 8 8 8 8]\n",
            "  [8 8 8 8 8 8]\n",
            "  [8 8 8 8 8 8]]]\n"
          ]
        }
      ]
    },
    {
      "cell_type": "markdown",
      "source": [
        "# **random.rand()**"
      ],
      "metadata": {
        "id": "zAV1bUXKH_69"
      }
    },
    {
      "cell_type": "code",
      "source": [
        "a=np.random.rand(5,6)\n",
        "print(a)"
      ],
      "metadata": {
        "colab": {
          "base_uri": "https://localhost:8080/"
        },
        "id": "oxvSRLbmIhSW",
        "outputId": "fc4eaca7-e13f-49b0-dcd0-22183cea9489"
      },
      "execution_count": null,
      "outputs": [
        {
          "output_type": "stream",
          "name": "stdout",
          "text": [
            "[[0.64357107 0.97674026 0.81545145 0.88384202 0.52196139 0.72211047]\n",
            " [0.24632752 0.03780398 0.93520633 0.56762675 0.49798931 0.29254688]\n",
            " [0.75672071 0.40958449 0.1438567  0.10930141 0.41131492 0.25206085]\n",
            " [0.07455182 0.84454543 0.09956812 0.98327067 0.25459967 0.23903152]\n",
            " [0.98453456 0.41945223 0.80910967 0.88078148 0.11338572 0.10857274]]\n"
          ]
        }
      ]
    },
    {
      "cell_type": "code",
      "source": [
        "a=np.random.rand(4,5,6)\n",
        "print(a)"
      ],
      "metadata": {
        "colab": {
          "base_uri": "https://localhost:8080/"
        },
        "id": "3Dzfkz-QJens",
        "outputId": "9bbf1097-b663-4260-c4eb-2ef9f11c0f37"
      },
      "execution_count": null,
      "outputs": [
        {
          "output_type": "stream",
          "name": "stdout",
          "text": [
            "[[[0.25879192 0.3420824  0.11997295 0.52120781 0.82937126 0.59708442]\n",
            "  [0.25555326 0.93066564 0.03441486 0.77701708 0.29719305 0.58668604]\n",
            "  [0.95317024 0.71828818 0.38139367 0.96413361 0.84666817 0.24494268]\n",
            "  [0.46261049 0.67844012 0.67768198 0.91664331 0.09368791 0.638256  ]\n",
            "  [0.56130044 0.65694573 0.21077647 0.09529608 0.31432292 0.10918611]]\n",
            "\n",
            " [[0.98177169 0.20786693 0.86792406 0.38477791 0.77015719 0.39467783]\n",
            "  [0.18492496 0.5242234  0.73367315 0.47933817 0.04089252 0.49410298]\n",
            "  [0.45461694 0.2099495  0.91522212 0.4465204  0.49016542 0.88542101]\n",
            "  [0.62452222 0.95723894 0.62864579 0.21790434 0.36358222 0.50987311]\n",
            "  [0.48513283 0.81415785 0.58976752 0.79425951 0.36403467 0.3403406 ]]\n",
            "\n",
            " [[0.12107338 0.83027849 0.56224505 0.53659497 0.50261359 0.86586594]\n",
            "  [0.26488421 0.72148081 0.90530357 0.36299345 0.31777207 0.08989863]\n",
            "  [0.28882046 0.39813566 0.71427688 0.21104153 0.75244245 0.55462738]\n",
            "  [0.40598676 0.05745002 0.3757696  0.20122472 0.07428755 0.62885087]\n",
            "  [0.17632061 0.07949862 0.60477907 0.39336116 0.19360807 0.03173101]]\n",
            "\n",
            " [[0.62746721 0.38475047 0.12616046 0.54090636 0.82545309 0.10296218]\n",
            "  [0.17205106 0.02955176 0.77487144 0.77315287 0.90146625 0.29303334]\n",
            "  [0.15266933 0.08367075 0.46877221 0.4051249  0.14401249 0.79976174]\n",
            "  [0.0464094  0.88901348 0.73444214 0.05979197 0.79027274 0.7722451 ]\n",
            "  [0.39080309 0.14277545 0.2755351  0.73950628 0.34061113 0.87782933]]]\n"
          ]
        }
      ]
    },
    {
      "cell_type": "code",
      "source": [
        "a=np.random.rand(5,7,2)\n",
        "print(a)"
      ],
      "metadata": {
        "colab": {
          "base_uri": "https://localhost:8080/"
        },
        "outputId": "8a5d89eb-631d-45da-a769-453db2a05f84",
        "id": "kQMrfXBP92VQ"
      },
      "execution_count": null,
      "outputs": [
        {
          "output_type": "stream",
          "name": "stdout",
          "text": [
            "[[[0.87862555 0.01777944]\n",
            "  [0.32752415 0.35966189]\n",
            "  [0.51879753 0.50527111]\n",
            "  [0.06911798 0.16215413]\n",
            "  [0.50516479 0.35151878]\n",
            "  [0.61695219 0.04550162]\n",
            "  [0.75689086 0.57262917]]\n",
            "\n",
            " [[0.87487157 0.63176393]\n",
            "  [0.69955045 0.83391173]\n",
            "  [0.40244692 0.0939491 ]\n",
            "  [0.38715052 0.62006238]\n",
            "  [0.36011818 0.87614313]\n",
            "  [0.34730553 0.75397571]\n",
            "  [0.54976934 0.8047495 ]]\n",
            "\n",
            " [[0.511058   0.12410862]\n",
            "  [0.99694727 0.83202348]\n",
            "  [0.73178065 0.91296968]\n",
            "  [0.32624329 0.49766374]\n",
            "  [0.72237177 0.31192983]\n",
            "  [0.31447559 0.32038742]\n",
            "  [0.93267583 0.72754915]]\n",
            "\n",
            " [[0.24943912 0.25052514]\n",
            "  [0.56830882 0.25550878]\n",
            "  [0.91286223 0.89628238]\n",
            "  [0.93858387 0.6722669 ]\n",
            "  [0.85639572 0.09830451]\n",
            "  [0.18170121 0.14155334]\n",
            "  [0.12775274 0.98912767]]\n",
            "\n",
            " [[0.52153088 0.92759464]\n",
            "  [0.96725696 0.94366201]\n",
            "  [0.28663783 0.1399273 ]\n",
            "  [0.71688673 0.83163358]\n",
            "  [0.44250409 0.45372426]\n",
            "  [0.9506873  0.67771413]\n",
            "  [0.02811237 0.80470119]]]\n"
          ]
        }
      ]
    },
    {
      "cell_type": "markdown",
      "source": [
        "# **ones()**"
      ],
      "metadata": {
        "id": "h1dcP1-fJupU"
      }
    },
    {
      "cell_type": "markdown",
      "source": [
        "same as zero"
      ],
      "metadata": {
        "id": "WALsrcpcsLr4"
      }
    },
    {
      "cell_type": "code",
      "source": [
        "import numpy as np"
      ],
      "metadata": {
        "id": "2iWyCnDqsbRO"
      },
      "execution_count": null,
      "outputs": []
    },
    {
      "cell_type": "code",
      "source": [
        "a=np.ones([4,6], dtype = int)\n",
        "print(a)"
      ],
      "metadata": {
        "id": "9opI97ccZiMf",
        "colab": {
          "base_uri": "https://localhost:8080/"
        },
        "outputId": "18c10f72-f402-479b-c4af-692e8e6e5b8b"
      },
      "execution_count": null,
      "outputs": [
        {
          "output_type": "stream",
          "name": "stdout",
          "text": [
            "[[1 1 1 1 1 1]\n",
            " [1 1 1 1 1 1]\n",
            " [1 1 1 1 1 1]\n",
            " [1 1 1 1 1 1]]\n"
          ]
        }
      ]
    },
    {
      "cell_type": "code",
      "source": [
        "a=np.ones([5,8], dtype = int)\n",
        "print(a)"
      ],
      "metadata": {
        "colab": {
          "base_uri": "https://localhost:8080/"
        },
        "outputId": "f4f4d306-acf3-4be0-a727-2d30aa943f77",
        "id": "mANAbrMQ9_kA"
      },
      "execution_count": null,
      "outputs": [
        {
          "output_type": "stream",
          "name": "stdout",
          "text": [
            "[[1 1 1 1 1 1 1 1]\n",
            " [1 1 1 1 1 1 1 1]\n",
            " [1 1 1 1 1 1 1 1]\n",
            " [1 1 1 1 1 1 1 1]\n",
            " [1 1 1 1 1 1 1 1]]\n"
          ]
        }
      ]
    },
    {
      "cell_type": "markdown",
      "source": [
        "#**eye()**"
      ],
      "metadata": {
        "id": "NqRC0mCiso_8"
      }
    },
    {
      "cell_type": "markdown",
      "source": [
        "**diagonal elements are 1 remain are 0**"
      ],
      "metadata": {
        "id": "rMaI0EnXtEvR"
      }
    },
    {
      "cell_type": "code",
      "source": [
        "a=np.eye(3)\n",
        "print(a)"
      ],
      "metadata": {
        "colab": {
          "base_uri": "https://localhost:8080/"
        },
        "id": "ZeJRI03ls3jE",
        "outputId": "ef019abd-4407-4b92-ea55-db9c63f7dadd"
      },
      "execution_count": null,
      "outputs": [
        {
          "output_type": "stream",
          "name": "stdout",
          "text": [
            "[[1. 0. 0.]\n",
            " [0. 1. 0.]\n",
            " [0. 0. 1.]]\n"
          ]
        }
      ]
    },
    {
      "cell_type": "code",
      "source": [
        "a=np.eye(5)\n",
        "print(a)"
      ],
      "metadata": {
        "colab": {
          "base_uri": "https://localhost:8080/"
        },
        "id": "AOtl-ZfDtcem",
        "outputId": "4e770f3e-cfab-4df5-85e3-d64993089d19"
      },
      "execution_count": null,
      "outputs": [
        {
          "output_type": "stream",
          "name": "stdout",
          "text": [
            "[[1. 0. 0. 0. 0.]\n",
            " [0. 1. 0. 0. 0.]\n",
            " [0. 0. 1. 0. 0.]\n",
            " [0. 0. 0. 1. 0.]\n",
            " [0. 0. 0. 0. 1.]]\n"
          ]
        }
      ]
    },
    {
      "cell_type": "code",
      "source": [
        "a=np.eye(8)\n",
        "print(a)"
      ],
      "metadata": {
        "colab": {
          "base_uri": "https://localhost:8080/"
        },
        "outputId": "b98d41d0-2da6-4fac-c185-e2557287f922",
        "id": "48w5NLRU-GcB"
      },
      "execution_count": null,
      "outputs": [
        {
          "output_type": "stream",
          "name": "stdout",
          "text": [
            "[[1. 0. 0. 0. 0. 0. 0. 0.]\n",
            " [0. 1. 0. 0. 0. 0. 0. 0.]\n",
            " [0. 0. 1. 0. 0. 0. 0. 0.]\n",
            " [0. 0. 0. 1. 0. 0. 0. 0.]\n",
            " [0. 0. 0. 0. 1. 0. 0. 0.]\n",
            " [0. 0. 0. 0. 0. 1. 0. 0.]\n",
            " [0. 0. 0. 0. 0. 0. 1. 0.]\n",
            " [0. 0. 0. 0. 0. 0. 0. 1.]]\n"
          ]
        }
      ]
    },
    {
      "cell_type": "markdown",
      "source": [
        "#**arange()**"
      ],
      "metadata": {
        "id": "8Xo9AmKY3bL2"
      }
    },
    {
      "cell_type": "code",
      "source": [
        "a=np.arange (30,50,2)\n",
        "print(a)"
      ],
      "metadata": {
        "colab": {
          "base_uri": "https://localhost:8080/"
        },
        "id": "sAEnZhpU4wk7",
        "outputId": "6f53206b-c276-4da8-93b1-30eae584d8c4"
      },
      "execution_count": null,
      "outputs": [
        {
          "output_type": "stream",
          "name": "stdout",
          "text": [
            "[30 32 34 36 38 40 42 44 46 48]\n"
          ]
        }
      ]
    },
    {
      "cell_type": "code",
      "source": [
        "a=np.arange (30,20,2)\n",
        "print(a)"
      ],
      "metadata": {
        "colab": {
          "base_uri": "https://localhost:8080/"
        },
        "outputId": "0cf228ef-cfed-4f6f-ce90-538dfabe9d9a",
        "id": "qlgLyL_3-NIx"
      },
      "execution_count": null,
      "outputs": [
        {
          "output_type": "stream",
          "name": "stdout",
          "text": [
            "[]\n"
          ]
        }
      ]
    },
    {
      "cell_type": "code",
      "source": [
        "a=np.arange (30,40,6)\n",
        "print(a)"
      ],
      "metadata": {
        "colab": {
          "base_uri": "https://localhost:8080/"
        },
        "outputId": "d214967d-e7f6-4535-d7d8-dc7c7a6a2295",
        "id": "1JDJbbke-Ofl"
      },
      "execution_count": null,
      "outputs": [
        {
          "output_type": "stream",
          "name": "stdout",
          "text": [
            "[30 36]\n"
          ]
        }
      ]
    },
    {
      "cell_type": "code",
      "source": [
        "a=np.arange (30,60,3,dtype = float)\n",
        "print(a)"
      ],
      "metadata": {
        "colab": {
          "base_uri": "https://localhost:8080/"
        },
        "id": "eoQrXM9i5BpJ",
        "outputId": "9621a733-e7f7-4e9a-99bd-a5444bdae19f"
      },
      "execution_count": null,
      "outputs": [
        {
          "output_type": "stream",
          "name": "stdout",
          "text": [
            "[30. 33. 36. 39. 42. 45. 48. 51. 54. 57.]\n"
          ]
        }
      ]
    },
    {
      "cell_type": "markdown",
      "source": [
        "# **Reshape()**"
      ],
      "metadata": {
        "id": "EK6d3hOH6bUF"
      }
    },
    {
      "cell_type": "code",
      "source": [
        "d = a.reshape(5,2)\n",
        "d"
      ],
      "metadata": {
        "colab": {
          "base_uri": "https://localhost:8080/"
        },
        "id": "usYa4azVFpir",
        "outputId": "fe724c6d-da5d-4195-cba6-5335a1d9a6c0"
      },
      "execution_count": null,
      "outputs": [
        {
          "output_type": "execute_result",
          "data": {
            "text/plain": [
              "array([[30., 33.],\n",
              "       [36., 39.],\n",
              "       [42., 45.],\n",
              "       [48., 51.],\n",
              "       [54., 57.]])"
            ]
          },
          "metadata": {},
          "execution_count": 19
        }
      ]
    },
    {
      "cell_type": "markdown",
      "source": [
        "#**line space()**"
      ],
      "metadata": {
        "id": "zl96pGQC5SVD"
      }
    },
    {
      "cell_type": "code",
      "source": [
        "a=np.linspace(10,100,10)\n",
        "print(a)"
      ],
      "metadata": {
        "colab": {
          "base_uri": "https://localhost:8080/"
        },
        "id": "lr-3eysc7mNC",
        "outputId": "7ea716f7-4b52-443e-bad8-02c1ae70a17d"
      },
      "execution_count": null,
      "outputs": [
        {
          "output_type": "stream",
          "name": "stdout",
          "text": [
            "[ 10.  20.  30.  40.  50.  60.  70.  80.  90. 100.]\n"
          ]
        }
      ]
    },
    {
      "cell_type": "code",
      "source": [
        "a=np.linspace (10,100,10,endpoint=False)\n",
        "print(a)"
      ],
      "metadata": {
        "colab": {
          "base_uri": "https://localhost:8080/"
        },
        "id": "ddYhT_t47vjy",
        "outputId": "126c6d6e-4f9b-445d-a9f7-add618390c73"
      },
      "execution_count": null,
      "outputs": [
        {
          "output_type": "stream",
          "name": "stdout",
          "text": [
            "[10. 19. 28. 37. 46. 55. 64. 73. 82. 91.]\n"
          ]
        }
      ]
    },
    {
      "cell_type": "code",
      "source": [
        "a=np.linspace(10,100,10,endpoint=False)\n",
        "print(a)"
      ],
      "metadata": {
        "colab": {
          "base_uri": "https://localhost:8080/"
        },
        "id": "s-XGmdYE-0jz",
        "outputId": "9fd32094-119d-476e-cc41-8721d8c61002"
      },
      "execution_count": null,
      "outputs": [
        {
          "output_type": "stream",
          "name": "stdout",
          "text": [
            "[10. 19. 28. 37. 46. 55. 64. 73. 82. 91.]\n"
          ]
        }
      ]
    },
    {
      "cell_type": "markdown",
      "source": [
        "#**logspace()**"
      ],
      "metadata": {
        "id": "Ypan44ro_DAk"
      }
    },
    {
      "cell_type": "code",
      "source": [
        "a=np.logspace(1,10,10,base=3,dtype=int)\n",
        "print(a)"
      ],
      "metadata": {
        "colab": {
          "base_uri": "https://localhost:8080/"
        },
        "id": "7yuH5gj7_Mxf",
        "outputId": "6360f8c0-9528-4979-e159-d36125f4b1c2"
      },
      "execution_count": null,
      "outputs": [
        {
          "output_type": "stream",
          "name": "stdout",
          "text": [
            "[    3     9    27    81   243   729  2187  6561 19683 59049]\n"
          ]
        }
      ]
    },
    {
      "cell_type": "code",
      "source": [
        "a=np.logspace(1,10,10,dtype=int)\n",
        "print(a)"
      ],
      "metadata": {
        "colab": {
          "base_uri": "https://localhost:8080/"
        },
        "outputId": "9e301391-bc36-461f-de27-7306318e72f2",
        "id": "v8hX5e2D_aYC"
      },
      "execution_count": null,
      "outputs": [
        {
          "output_type": "stream",
          "name": "stdout",
          "text": [
            "[         10         100        1000       10000      100000     1000000\n",
            "    10000000   100000000  1000000000 10000000000]\n"
          ]
        }
      ]
    },
    {
      "cell_type": "markdown",
      "source": [
        "#**ARRAY PROPERTIES**"
      ],
      "metadata": {
        "id": "p6fCkURkvSCZ"
      }
    },
    {
      "cell_type": "markdown",
      "source": [
        "SIZE -***np.size(array)***"
      ],
      "metadata": {
        "id": "MAovXUIQvfdm"
      }
    },
    {
      "cell_type": "markdown",
      "source": [
        "SHAPE- ***np.shape(array)***"
      ],
      "metadata": {
        "id": "RHcb81urv74X"
      }
    },
    {
      "cell_type": "markdown",
      "source": [
        "DTYPE -***a.dtype***"
      ],
      "metadata": {
        "id": "tAllAo2OwC1D"
      }
    },
    {
      "cell_type": "code",
      "source": [
        "a = np.arange(10,100,10)\n",
        "a"
      ],
      "metadata": {
        "colab": {
          "base_uri": "https://localhost:8080/"
        },
        "id": "4gSrU5RawMZn",
        "outputId": "edaf4afa-4713-48dc-e885-31988163b838"
      },
      "execution_count": null,
      "outputs": [
        {
          "output_type": "execute_result",
          "data": {
            "text/plain": [
              "array([10, 20, 30, 40, 50, 60, 70, 80, 90])"
            ]
          },
          "metadata": {},
          "execution_count": 25
        }
      ]
    },
    {
      "cell_type": "code",
      "source": [
        "a = a.reshape(3,3)\n",
        "a"
      ],
      "metadata": {
        "colab": {
          "base_uri": "https://localhost:8080/"
        },
        "id": "mi7fPR67wcbo",
        "outputId": "6d6f5eaa-8aca-45d0-f4d6-035448d91cf5"
      },
      "execution_count": null,
      "outputs": [
        {
          "output_type": "execute_result",
          "data": {
            "text/plain": [
              "array([[10, 20, 30],\n",
              "       [40, 50, 60],\n",
              "       [70, 80, 90]])"
            ]
          },
          "metadata": {},
          "execution_count": 26
        }
      ]
    },
    {
      "cell_type": "code",
      "source": [
        "np.size(a)"
      ],
      "metadata": {
        "colab": {
          "base_uri": "https://localhost:8080/"
        },
        "id": "_QEOZ_WIwiEi",
        "outputId": "94a8b7c4-e7bc-4f39-e26a-4ef7900f862e"
      },
      "execution_count": null,
      "outputs": [
        {
          "output_type": "execute_result",
          "data": {
            "text/plain": [
              "9"
            ]
          },
          "metadata": {},
          "execution_count": 27
        }
      ]
    },
    {
      "cell_type": "code",
      "source": [
        "a.dtype"
      ],
      "metadata": {
        "colab": {
          "base_uri": "https://localhost:8080/"
        },
        "id": "UAjVbSzCwvY6",
        "outputId": "f685434e-4927-4298-daa6-cd037c7e8278"
      },
      "execution_count": null,
      "outputs": [
        {
          "output_type": "execute_result",
          "data": {
            "text/plain": [
              "dtype('int64')"
            ]
          },
          "metadata": {},
          "execution_count": 30
        }
      ]
    },
    {
      "cell_type": "code",
      "source": [
        "b =  np.array([10,20,30],dtype=float)\n",
        "print(b)"
      ],
      "metadata": {
        "colab": {
          "base_uri": "https://localhost:8080/"
        },
        "id": "4734TLSIwyuk",
        "outputId": "b7235734-05d9-40eb-da86-255db770a35f"
      },
      "execution_count": null,
      "outputs": [
        {
          "output_type": "stream",
          "name": "stdout",
          "text": [
            "[10. 20. 30.]\n"
          ]
        }
      ]
    },
    {
      "cell_type": "code",
      "source": [
        "b.dtype"
      ],
      "metadata": {
        "colab": {
          "base_uri": "https://localhost:8080/"
        },
        "id": "UChFIwk-w9Ju",
        "outputId": "296c8eda-b42b-408b-ff83-abba07b136a3"
      },
      "execution_count": null,
      "outputs": [
        {
          "output_type": "execute_result",
          "data": {
            "text/plain": [
              "dtype('float64')"
            ]
          },
          "metadata": {},
          "execution_count": 29
        }
      ]
    },
    {
      "cell_type": "markdown",
      "source": [
        "#**ARRAY OPERATIONS**"
      ],
      "metadata": {
        "id": "lu1qiv6hxGlo"
      }
    },
    {
      "cell_type": "markdown",
      "source": [
        "***Accesing the elemnts***"
      ],
      "metadata": {
        "id": "9hPpOQzBxj5h"
      }
    },
    {
      "cell_type": "markdown",
      "source": [
        "***Slicing*** -*****means extracting some pertion of data*****"
      ],
      "metadata": {
        "id": "D2KhD9xlxsby"
      }
    },
    {
      "cell_type": "markdown",
      "source": [
        "*Acessing and slicing operations\n",
        "concentenate()\n",
        "copy()                                          stack()*\n",
        "\n",
        "\n",
        "\n",
        "\n"
      ],
      "metadata": {
        "id": "L4dVsjJUx6g-"
      }
    },
    {
      "cell_type": "markdown",
      "source": [
        "##**Accessing And Slicing Operations**"
      ],
      "metadata": {
        "id": "K6y0AIKPyOER"
      }
    },
    {
      "cell_type": "code",
      "source": [
        "a=np.array([[234,387,465,834,964,201],[543,500,823,645,723,923]])"
      ],
      "metadata": {
        "id": "IYpQ7pWGX1bn"
      },
      "execution_count": null,
      "outputs": []
    },
    {
      "cell_type": "code",
      "source": [
        "print(a)"
      ],
      "metadata": {
        "id": "5jM3ehivYY_0",
        "colab": {
          "base_uri": "https://localhost:8080/"
        },
        "outputId": "1fbb829c-1803-41f9-db13-d6471a64d385"
      },
      "execution_count": null,
      "outputs": [
        {
          "output_type": "stream",
          "name": "stdout",
          "text": [
            "[[234 387 465 834 964 201]\n",
            " [543 500 823 645 723 923]]\n"
          ]
        }
      ]
    },
    {
      "cell_type": "code",
      "source": [
        "a[0]"
      ],
      "metadata": {
        "id": "aYrJc8pdYdYg",
        "colab": {
          "base_uri": "https://localhost:8080/"
        },
        "outputId": "f8bb7232-37a3-42e6-b1eb-780f93561e21"
      },
      "execution_count": null,
      "outputs": [
        {
          "output_type": "execute_result",
          "data": {
            "text/plain": [
              "array([234, 387, 465, 834, 964, 201])"
            ]
          },
          "metadata": {},
          "execution_count": 33
        }
      ]
    },
    {
      "cell_type": "code",
      "source": [
        "a[1]"
      ],
      "metadata": {
        "id": "iX5LpNWbYmIS",
        "colab": {
          "base_uri": "https://localhost:8080/"
        },
        "outputId": "728e93a9-dcb5-48cc-fa17-46165c8720a4"
      },
      "execution_count": null,
      "outputs": [
        {
          "output_type": "execute_result",
          "data": {
            "text/plain": [
              "array([543, 500, 823, 645, 723, 923])"
            ]
          },
          "metadata": {},
          "execution_count": 34
        }
      ]
    },
    {
      "cell_type": "code",
      "source": [
        "a[1][1]"
      ],
      "metadata": {
        "id": "kSqcTrkLYtVI",
        "colab": {
          "base_uri": "https://localhost:8080/"
        },
        "outputId": "089e14c7-3c73-4d1c-cb41-fd533cb10d88"
      },
      "execution_count": null,
      "outputs": [
        {
          "output_type": "execute_result",
          "data": {
            "text/plain": [
              "500"
            ]
          },
          "metadata": {},
          "execution_count": 35
        }
      ]
    },
    {
      "cell_type": "code",
      "source": [
        "a[1][4]"
      ],
      "metadata": {
        "id": "igVRwmhDYvvP",
        "colab": {
          "base_uri": "https://localhost:8080/"
        },
        "outputId": "576300af-c077-47c2-98ae-7796aceb343b"
      },
      "execution_count": null,
      "outputs": [
        {
          "output_type": "execute_result",
          "data": {
            "text/plain": [
              "723"
            ]
          },
          "metadata": {},
          "execution_count": 36
        }
      ]
    },
    {
      "cell_type": "code",
      "source": [
        "h=np.arange(10,200,10)\n",
        "print(h)"
      ],
      "metadata": {
        "id": "h5vWPtyTYzTi",
        "colab": {
          "base_uri": "https://localhost:8080/"
        },
        "outputId": "a77a87ed-d8c7-4559-f227-c692d7fa9791"
      },
      "execution_count": null,
      "outputs": [
        {
          "output_type": "stream",
          "name": "stdout",
          "text": [
            "[ 10  20  30  40  50  60  70  80  90 100 110 120 130 140 150 160 170 180\n",
            " 190]\n"
          ]
        }
      ]
    },
    {
      "cell_type": "code",
      "source": [
        "h[5:16]"
      ],
      "metadata": {
        "id": "LKkHaLDfZdu9",
        "colab": {
          "base_uri": "https://localhost:8080/"
        },
        "outputId": "609f24fb-9816-4a8e-b894-7d38c43c3e1e"
      },
      "execution_count": null,
      "outputs": [
        {
          "output_type": "execute_result",
          "data": {
            "text/plain": [
              "array([ 60,  70,  80,  90, 100, 110, 120, 130, 140, 150, 160])"
            ]
          },
          "metadata": {},
          "execution_count": 38
        }
      ]
    },
    {
      "cell_type": "code",
      "source": [
        "h=np.arange(10,3000,10)\n",
        "print(h)"
      ],
      "metadata": {
        "id": "oy2i-01RZjKK",
        "colab": {
          "base_uri": "https://localhost:8080/"
        },
        "outputId": "78429f86-22a3-4887-f7d4-dd96f3cce752"
      },
      "execution_count": null,
      "outputs": [
        {
          "output_type": "stream",
          "name": "stdout",
          "text": [
            "[  10   20   30   40   50   60   70   80   90  100  110  120  130  140\n",
            "  150  160  170  180  190  200  210  220  230  240  250  260  270  280\n",
            "  290  300  310  320  330  340  350  360  370  380  390  400  410  420\n",
            "  430  440  450  460  470  480  490  500  510  520  530  540  550  560\n",
            "  570  580  590  600  610  620  630  640  650  660  670  680  690  700\n",
            "  710  720  730  740  750  760  770  780  790  800  810  820  830  840\n",
            "  850  860  870  880  890  900  910  920  930  940  950  960  970  980\n",
            "  990 1000 1010 1020 1030 1040 1050 1060 1070 1080 1090 1100 1110 1120\n",
            " 1130 1140 1150 1160 1170 1180 1190 1200 1210 1220 1230 1240 1250 1260\n",
            " 1270 1280 1290 1300 1310 1320 1330 1340 1350 1360 1370 1380 1390 1400\n",
            " 1410 1420 1430 1440 1450 1460 1470 1480 1490 1500 1510 1520 1530 1540\n",
            " 1550 1560 1570 1580 1590 1600 1610 1620 1630 1640 1650 1660 1670 1680\n",
            " 1690 1700 1710 1720 1730 1740 1750 1760 1770 1780 1790 1800 1810 1820\n",
            " 1830 1840 1850 1860 1870 1880 1890 1900 1910 1920 1930 1940 1950 1960\n",
            " 1970 1980 1990 2000 2010 2020 2030 2040 2050 2060 2070 2080 2090 2100\n",
            " 2110 2120 2130 2140 2150 2160 2170 2180 2190 2200 2210 2220 2230 2240\n",
            " 2250 2260 2270 2280 2290 2300 2310 2320 2330 2340 2350 2360 2370 2380\n",
            " 2390 2400 2410 2420 2430 2440 2450 2460 2470 2480 2490 2500 2510 2520\n",
            " 2530 2540 2550 2560 2570 2580 2590 2600 2610 2620 2630 2640 2650 2660\n",
            " 2670 2680 2690 2700 2710 2720 2730 2740 2750 2760 2770 2780 2790 2800\n",
            " 2810 2820 2830 2840 2850 2860 2870 2880 2890 2900 2910 2920 2930 2940\n",
            " 2950 2960 2970 2980 2990]\n"
          ]
        }
      ]
    },
    {
      "cell_type": "code",
      "source": [
        "h[123:212]"
      ],
      "metadata": {
        "id": "7wMqv9h3Zvwe",
        "colab": {
          "base_uri": "https://localhost:8080/"
        },
        "outputId": "c4d70edc-2dfd-4b61-81c5-e1ea876b5205"
      },
      "execution_count": null,
      "outputs": [
        {
          "output_type": "execute_result",
          "data": {
            "text/plain": [
              "array([1240, 1250, 1260, 1270, 1280, 1290, 1300, 1310, 1320, 1330, 1340,\n",
              "       1350, 1360, 1370, 1380, 1390, 1400, 1410, 1420, 1430, 1440, 1450,\n",
              "       1460, 1470, 1480, 1490, 1500, 1510, 1520, 1530, 1540, 1550, 1560,\n",
              "       1570, 1580, 1590, 1600, 1610, 1620, 1630, 1640, 1650, 1660, 1670,\n",
              "       1680, 1690, 1700, 1710, 1720, 1730, 1740, 1750, 1760, 1770, 1780,\n",
              "       1790, 1800, 1810, 1820, 1830, 1840, 1850, 1860, 1870, 1880, 1890,\n",
              "       1900, 1910, 1920, 1930, 1940, 1950, 1960, 1970, 1980, 1990, 2000,\n",
              "       2010, 2020, 2030, 2040, 2050, 2060, 2070, 2080, 2090, 2100, 2110,\n",
              "       2120])"
            ]
          },
          "metadata": {},
          "execution_count": 40
        }
      ]
    },
    {
      "cell_type": "markdown",
      "source": [
        "##**copy()**"
      ],
      "metadata": {
        "id": "oZ9r7w2Yare0"
      }
    },
    {
      "cell_type": "markdown",
      "source": [
        "***copying one array elements into another array***"
      ],
      "metadata": {
        "id": "T44H9zd1azFJ"
      }
    },
    {
      "cell_type": "code",
      "source": [
        "a=np.array([[234,387,465,834,964,201],[543,500,823,645,823,923]])\n",
        "print(a)"
      ],
      "metadata": {
        "id": "_sZTH1egbLEP",
        "colab": {
          "base_uri": "https://localhost:8080/"
        },
        "outputId": "597df06e-129f-45b1-a397-0e973f10c055"
      },
      "execution_count": null,
      "outputs": [
        {
          "output_type": "stream",
          "name": "stdout",
          "text": [
            "[[234 387 465 834 964 201]\n",
            " [543 500 823 645 823 923]]\n"
          ]
        }
      ]
    },
    {
      "cell_type": "code",
      "source": [
        "b=np.array([[364,296,975,345,253,785],[241,940,823,764,241,623]])\n",
        "print(b)"
      ],
      "metadata": {
        "id": "k9rjwziCcUsJ",
        "colab": {
          "base_uri": "https://localhost:8080/"
        },
        "outputId": "94489bb7-b440-483f-a22e-429549dadcfa"
      },
      "execution_count": null,
      "outputs": [
        {
          "output_type": "stream",
          "name": "stdout",
          "text": [
            "[[364 296 975 345 253 785]\n",
            " [241 940 823 764 241 623]]\n"
          ]
        }
      ]
    },
    {
      "cell_type": "code",
      "source": [
        "b=np.copy(a)\n",
        "print(b)"
      ],
      "metadata": {
        "id": "NZIvMOPScosB",
        "colab": {
          "base_uri": "https://localhost:8080/"
        },
        "outputId": "0f77912a-99e8-475f-ae39-b21147529d0a"
      },
      "execution_count": null,
      "outputs": [
        {
          "output_type": "stream",
          "name": "stdout",
          "text": [
            "[[234 387 465 834 964 201]\n",
            " [543 500 823 645 823 923]]\n"
          ]
        }
      ]
    },
    {
      "cell_type": "code",
      "source": [
        "a=np.copy(b)\n",
        "print(a)"
      ],
      "metadata": {
        "id": "bKlhBcDr7hTA",
        "colab": {
          "base_uri": "https://localhost:8080/"
        },
        "outputId": "b0e4f4db-0ab1-40c0-bb15-21770f6887d0"
      },
      "execution_count": null,
      "outputs": [
        {
          "output_type": "stream",
          "name": "stdout",
          "text": [
            "[[234 387 465 834 964 201]\n",
            " [543 500 823 645 823 923]]\n"
          ]
        }
      ]
    },
    {
      "cell_type": "code",
      "source": [
        "a,b"
      ],
      "metadata": {
        "id": "cPB88MVf9ebv",
        "colab": {
          "base_uri": "https://localhost:8080/"
        },
        "outputId": "0e78460e-33a6-412d-e9dc-06797df357db"
      },
      "execution_count": null,
      "outputs": [
        {
          "output_type": "execute_result",
          "data": {
            "text/plain": [
              "(array([[234, 387, 465, 834, 964, 201],\n",
              "        [543, 500, 823, 645, 823, 923]]),\n",
              " array([[234, 387, 465, 834, 964, 201],\n",
              "        [543, 500, 823, 645, 823, 923]]))"
            ]
          },
          "metadata": {},
          "execution_count": 45
        }
      ]
    },
    {
      "cell_type": "markdown",
      "source": [
        "##**view**"
      ],
      "metadata": {
        "id": "CHw_mOF59z9m"
      }
    },
    {
      "cell_type": "markdown",
      "source": [
        "***similar to copy but its acts like a refernace***"
      ],
      "metadata": {
        "id": "TmxevbCr940S"
      }
    },
    {
      "cell_type": "code",
      "source": [
        "c = b.view()\n",
        "c"
      ],
      "metadata": {
        "colab": {
          "base_uri": "https://localhost:8080/"
        },
        "id": "gjX241Hw9kDe",
        "outputId": "34571f6e-da9b-4a6e-9450-3685c13244ed"
      },
      "execution_count": null,
      "outputs": [
        {
          "output_type": "execute_result",
          "data": {
            "text/plain": [
              "array([[234, 387, 465, 834, 964, 201],\n",
              "       [543, 500, 823, 645, 823, 923]])"
            ]
          },
          "metadata": {},
          "execution_count": 46
        }
      ]
    },
    {
      "cell_type": "code",
      "source": [
        "print(\"a=\",a)\n",
        "print(\"b=\",b)\n",
        "print(\"c=\",c)"
      ],
      "metadata": {
        "colab": {
          "base_uri": "https://localhost:8080/"
        },
        "id": "Nw57sfxp9j5Q",
        "outputId": "5ada3b1e-d6a6-4bd1-b703-d4282d0f1baf"
      },
      "execution_count": null,
      "outputs": [
        {
          "output_type": "stream",
          "name": "stdout",
          "text": [
            "a= [[234 387 465 834 964 201]\n",
            " [543 500 823 645 823 923]]\n",
            "b= [[234 387 465 834 964 201]\n",
            " [543 500 823 645 823 923]]\n",
            "c= [[234 387 465 834 964 201]\n",
            " [543 500 823 645 823 923]]\n"
          ]
        }
      ]
    },
    {
      "cell_type": "code",
      "source": [
        "a[1][2]=777\n",
        "a"
      ],
      "metadata": {
        "colab": {
          "base_uri": "https://localhost:8080/"
        },
        "id": "23I7TOQx9jsu",
        "outputId": "ee1ca74e-362d-4856-f0e2-4964e2cb8f20"
      },
      "execution_count": null,
      "outputs": [
        {
          "output_type": "execute_result",
          "data": {
            "text/plain": [
              "array([[234, 387, 465, 834, 964, 201],\n",
              "       [543, 500, 777, 645, 823, 923]])"
            ]
          },
          "metadata": {},
          "execution_count": 48
        }
      ]
    },
    {
      "cell_type": "code",
      "source": [
        "b"
      ],
      "metadata": {
        "colab": {
          "base_uri": "https://localhost:8080/"
        },
        "id": "io0_Y8dE9jRx",
        "outputId": "852dd9af-8188-4a20-c716-5761c6e2f6c5"
      },
      "execution_count": null,
      "outputs": [
        {
          "output_type": "execute_result",
          "data": {
            "text/plain": [
              "array([[234, 387, 465, 834, 964, 201],\n",
              "       [543, 500, 823, 645, 823, 923]])"
            ]
          },
          "metadata": {},
          "execution_count": 49
        }
      ]
    },
    {
      "cell_type": "code",
      "source": [
        "c"
      ],
      "metadata": {
        "colab": {
          "base_uri": "https://localhost:8080/"
        },
        "id": "h3yQYdWN9i7k",
        "outputId": "31ba8140-fc4b-41d1-aa5c-8c46b94115cd"
      },
      "execution_count": null,
      "outputs": [
        {
          "output_type": "execute_result",
          "data": {
            "text/plain": [
              "array([[234, 387, 465, 834, 964, 201],\n",
              "       [543, 500, 823, 645, 823, 923]])"
            ]
          },
          "metadata": {},
          "execution_count": 50
        }
      ]
    },
    {
      "cell_type": "code",
      "source": [
        "b[0][4]=999\n",
        "b"
      ],
      "metadata": {
        "colab": {
          "base_uri": "https://localhost:8080/"
        },
        "id": "gXptlwbF9iy5",
        "outputId": "d4e6ff1e-59ba-48c6-8ebc-2b469c9fe6f9"
      },
      "execution_count": null,
      "outputs": [
        {
          "output_type": "execute_result",
          "data": {
            "text/plain": [
              "array([[234, 387, 465, 834, 999, 201],\n",
              "       [543, 500, 823, 645, 823, 923]])"
            ]
          },
          "metadata": {},
          "execution_count": 51
        }
      ]
    },
    {
      "cell_type": "code",
      "source": [
        "c"
      ],
      "metadata": {
        "colab": {
          "base_uri": "https://localhost:8080/"
        },
        "id": "EwwNbITM9iqz",
        "outputId": "0236c2f7-8c6e-42bf-efc5-cf4703ad7f8b"
      },
      "execution_count": null,
      "outputs": [
        {
          "output_type": "execute_result",
          "data": {
            "text/plain": [
              "array([[234, 387, 465, 834, 999, 201],\n",
              "       [543, 500, 823, 645, 823, 923]])"
            ]
          },
          "metadata": {},
          "execution_count": 52
        }
      ]
    },
    {
      "cell_type": "markdown",
      "source": [
        "##**sort()**"
      ],
      "metadata": {
        "id": "8pS38ikPCEwq"
      }
    },
    {
      "cell_type": "markdown",
      "source": [
        "*sorting of elements*"
      ],
      "metadata": {
        "id": "FoJbEL3BFlRs"
      }
    },
    {
      "cell_type": "code",
      "source": [
        "a = np.array([4325,3548,1911,8912,9012,3219,4358,8230])\n",
        "print(a)"
      ],
      "metadata": {
        "colab": {
          "base_uri": "https://localhost:8080/"
        },
        "outputId": "facdb73c-5e9f-4615-b095-51d6f042278f",
        "id": "_bBymmRmF67w"
      },
      "execution_count": null,
      "outputs": [
        {
          "output_type": "stream",
          "name": "stdout",
          "text": [
            "[4325 3548 1911 8912 9012 3219 4358 8230]\n"
          ]
        }
      ]
    },
    {
      "cell_type": "code",
      "source": [
        "np.sort(a)"
      ],
      "metadata": {
        "colab": {
          "base_uri": "https://localhost:8080/"
        },
        "id": "EvHaLuSuGYJt",
        "outputId": "47639fc5-0ad6-4300-b6b4-d35d691b1bb3"
      },
      "execution_count": null,
      "outputs": [
        {
          "output_type": "execute_result",
          "data": {
            "text/plain": [
              "array([1911, 3219, 3548, 4325, 4358, 8230, 8912, 9012])"
            ]
          },
          "metadata": {},
          "execution_count": 54
        }
      ]
    },
    {
      "cell_type": "code",
      "source": [
        "a=a.reshape(4,2)\n",
        "print(a)"
      ],
      "metadata": {
        "colab": {
          "base_uri": "https://localhost:8080/"
        },
        "id": "AqhtrFQ8GiTN",
        "outputId": "94ef0607-714a-4f2f-fb1e-733df34c277c"
      },
      "execution_count": null,
      "outputs": [
        {
          "output_type": "stream",
          "name": "stdout",
          "text": [
            "[[4325 3548]\n",
            " [1911 8912]\n",
            " [9012 3219]\n",
            " [4358 8230]]\n"
          ]
        }
      ]
    },
    {
      "cell_type": "code",
      "source": [
        "a=a.reshape(2,4)\n",
        "print(a)"
      ],
      "metadata": {
        "colab": {
          "base_uri": "https://localhost:8080/"
        },
        "outputId": "3422c20a-b01f-45c0-d438-36b46ad2e01a",
        "id": "sQEVh85MG-Ud"
      },
      "execution_count": null,
      "outputs": [
        {
          "output_type": "stream",
          "name": "stdout",
          "text": [
            "[[4325 3548 1911 8912]\n",
            " [9012 3219 4358 8230]]\n"
          ]
        }
      ]
    },
    {
      "cell_type": "code",
      "source": [
        "a=a.reshape(1,8)\n",
        "print(a)"
      ],
      "metadata": {
        "colab": {
          "base_uri": "https://localhost:8080/"
        },
        "id": "Qb2DdHKDHVWM",
        "outputId": "4a9b88d6-177c-49a8-9546-179ae8475f5f"
      },
      "execution_count": null,
      "outputs": [
        {
          "output_type": "stream",
          "name": "stdout",
          "text": [
            "[[4325 3548 1911 8912 9012 3219 4358 8230]]\n"
          ]
        }
      ]
    },
    {
      "cell_type": "code",
      "source": [
        "a=a.reshape(8,1)\n",
        "print(a)"
      ],
      "metadata": {
        "colab": {
          "base_uri": "https://localhost:8080/"
        },
        "outputId": "764ebe0e-d50a-419e-94b9-639712f35cf3",
        "id": "2-5WlDPBHfIm"
      },
      "execution_count": null,
      "outputs": [
        {
          "output_type": "stream",
          "name": "stdout",
          "text": [
            "[[4325]\n",
            " [3548]\n",
            " [1911]\n",
            " [8912]\n",
            " [9012]\n",
            " [3219]\n",
            " [4358]\n",
            " [8230]]\n"
          ]
        }
      ]
    },
    {
      "cell_type": "markdown",
      "source": [
        "#**Based on Axis maximun functions implemented**"
      ],
      "metadata": {
        "id": "sn3Axqd9HlVk"
      }
    },
    {
      "cell_type": "markdown",
      "source": [
        "*Axis : 0 means column wise operations*\n"
      ],
      "metadata": {
        "id": "o9EtP9dCH6Z2"
      }
    },
    {
      "cell_type": "markdown",
      "source": [
        "*Axis : 1 means row wise operations*"
      ],
      "metadata": {
        "id": "3kRvLFLIK3p6"
      }
    },
    {
      "cell_type": "code",
      "source": [
        "a = np.array([[234,687,465,834,964,901],[543,500,823,645,823,723]])\n",
        "print(a)"
      ],
      "metadata": {
        "id": "2c10LNOrH5xR",
        "colab": {
          "base_uri": "https://localhost:8080/"
        },
        "outputId": "45c33678-65da-4099-8ed7-1cafe83e81ab"
      },
      "execution_count": null,
      "outputs": [
        {
          "output_type": "stream",
          "name": "stdout",
          "text": [
            "[[234 687 465 834 964 901]\n",
            " [543 500 823 645 823 723]]\n"
          ]
        }
      ]
    },
    {
      "cell_type": "code",
      "source": [
        "np.sort(a,axis=0) #column wise operations are sorted"
      ],
      "metadata": {
        "colab": {
          "base_uri": "https://localhost:8080/"
        },
        "id": "Wk-qrZlgLoGT",
        "outputId": "9a83c02b-6bdc-4b3b-82bf-10d7f7637546"
      },
      "execution_count": null,
      "outputs": [
        {
          "output_type": "execute_result",
          "data": {
            "text/plain": [
              "array([[234, 500, 465, 645, 823, 723],\n",
              "       [543, 687, 823, 834, 964, 901]])"
            ]
          },
          "metadata": {},
          "execution_count": 60
        }
      ]
    },
    {
      "cell_type": "code",
      "source": [
        "np.sort(a,axis=1) #row wise operations are sorted"
      ],
      "metadata": {
        "outputId": "d1fdce38-959b-4d5b-bbca-c0d1209063e9",
        "colab": {
          "base_uri": "https://localhost:8080/"
        },
        "id": "8ZUAKPdXL7Gs"
      },
      "execution_count": null,
      "outputs": [
        {
          "output_type": "execute_result",
          "data": {
            "text/plain": [
              "array([[234, 465, 687, 834, 901, 964],\n",
              "       [500, 543, 645, 723, 823, 823]])"
            ]
          },
          "metadata": {},
          "execution_count": 61
        }
      ]
    },
    {
      "cell_type": "markdown",
      "source": [
        "****In single dimension it will sort normally****"
      ],
      "metadata": {
        "id": "c6KkxKgoMFsU"
      }
    },
    {
      "cell_type": "markdown",
      "source": [
        "****In Multi dimension it will sorted using Axis****"
      ],
      "metadata": {
        "id": "sFbqYCgwMPNr"
      }
    },
    {
      "cell_type": "markdown",
      "source": [
        "****If we are not mentioned anything default it takes row wise axis****"
      ],
      "metadata": {
        "id": "1HrqZYlTMaaX"
      }
    },
    {
      "cell_type": "code",
      "source": [
        "d = np.dtype([('name','S1'),('perc',float)])"
      ],
      "metadata": {
        "id": "4-U9qYQjMqn5"
      },
      "execution_count": null,
      "outputs": []
    },
    {
      "cell_type": "code",
      "source": [
        "marks = np.array([(\"h\",99.8),(\"l\",98.3),(\"a\",93.2)],dtype=d)"
      ],
      "metadata": {
        "id": "r1OURU-lM5Ab"
      },
      "execution_count": null,
      "outputs": []
    },
    {
      "cell_type": "code",
      "source": [
        "marks"
      ],
      "metadata": {
        "colab": {
          "base_uri": "https://localhost:8080/"
        },
        "id": "AjPsFbF2N2Iw",
        "outputId": "9364f7c7-5e74-4c2e-dad0-fc6a1c2bd560"
      },
      "execution_count": null,
      "outputs": [
        {
          "output_type": "execute_result",
          "data": {
            "text/plain": [
              "array([(b'h', 99.8), (b'l', 98.3), (b'a', 93.2)],\n",
              "      dtype=[('name', 'S1'), ('perc', '<f8')])"
            ]
          },
          "metadata": {},
          "execution_count": 64
        }
      ]
    },
    {
      "cell_type": "code",
      "source": [
        "np.sort(marks,order=\"name\")"
      ],
      "metadata": {
        "colab": {
          "base_uri": "https://localhost:8080/"
        },
        "id": "ZXUaLAwON42d",
        "outputId": "23d41933-f110-483d-824f-7d35a668502b"
      },
      "execution_count": null,
      "outputs": [
        {
          "output_type": "execute_result",
          "data": {
            "text/plain": [
              "array([(b'a', 93.2), (b'h', 99.8), (b'l', 98.3)],\n",
              "      dtype=[('name', 'S1'), ('perc', '<f8')])"
            ]
          },
          "metadata": {},
          "execution_count": 65
        }
      ]
    },
    {
      "cell_type": "code",
      "source": [
        "np.sort(marks,order=\"perc\")"
      ],
      "metadata": {
        "outputId": "8998600f-9d89-4997-d639-d1c0d9cf3a29",
        "colab": {
          "base_uri": "https://localhost:8080/"
        },
        "id": "8OuiPjubOCU9"
      },
      "execution_count": null,
      "outputs": [
        {
          "output_type": "execute_result",
          "data": {
            "text/plain": [
              "array([(b'a', 93.2), (b'l', 98.3), (b'h', 99.8)],\n",
              "      dtype=[('name', 'S1'), ('perc', '<f8')])"
            ]
          },
          "metadata": {},
          "execution_count": 66
        }
      ]
    },
    {
      "cell_type": "markdown",
      "source": [
        "#**reshape**"
      ],
      "metadata": {
        "id": "VVQAHOkeOc3F"
      }
    },
    {
      "cell_type": "code",
      "source": [
        "a = np.array([234,687,834,964,543,500,823,645,823,723])\n",
        "a"
      ],
      "metadata": {
        "colab": {
          "base_uri": "https://localhost:8080/"
        },
        "id": "Vc9qHJfAOnG1",
        "outputId": "10b3dd43-7998-4b1c-bb24-5ae3fff9a19b"
      },
      "execution_count": null,
      "outputs": [
        {
          "output_type": "execute_result",
          "data": {
            "text/plain": [
              "array([234, 687, 834, 964, 543, 500, 823, 645, 823, 723])"
            ]
          },
          "metadata": {},
          "execution_count": 67
        }
      ]
    },
    {
      "cell_type": "code",
      "source": [
        "a.reshape(2,6)"
      ],
      "metadata": {
        "id": "w-GvafRwO9Z_",
        "colab": {
          "base_uri": "https://localhost:8080/",
          "height": 165
        },
        "outputId": "22e7d32b-90f9-4611-cbd6-1209c7873149"
      },
      "execution_count": null,
      "outputs": [
        {
          "output_type": "error",
          "ename": "ValueError",
          "evalue": "ignored",
          "traceback": [
            "\u001b[0;31m---------------------------------------------------------------------------\u001b[0m",
            "\u001b[0;31mValueError\u001b[0m                                Traceback (most recent call last)",
            "\u001b[0;32m<ipython-input-71-35ce22445ebd>\u001b[0m in \u001b[0;36m<cell line: 1>\u001b[0;34m()\u001b[0m\n\u001b[0;32m----> 1\u001b[0;31m \u001b[0ma\u001b[0m\u001b[0;34m.\u001b[0m\u001b[0mreshape\u001b[0m\u001b[0;34m(\u001b[0m\u001b[0;36m2\u001b[0m\u001b[0;34m,\u001b[0m\u001b[0;36m6\u001b[0m\u001b[0;34m)\u001b[0m\u001b[0;34m\u001b[0m\u001b[0;34m\u001b[0m\u001b[0m\n\u001b[0m",
            "\u001b[0;31mValueError\u001b[0m: cannot reshape array of size 26 into shape (2,6)"
          ]
        }
      ]
    },
    {
      "cell_type": "code",
      "source": [
        "a = np.arange(20,280,10)\n",
        "a"
      ],
      "metadata": {
        "colab": {
          "base_uri": "https://localhost:8080/"
        },
        "id": "2bp1uJfrPAx_",
        "outputId": "676e1d3f-a79d-41b7-fd8d-4a9ed375c6ef"
      },
      "execution_count": null,
      "outputs": [
        {
          "output_type": "execute_result",
          "data": {
            "text/plain": [
              "array([ 20,  30,  40,  50,  60,  70,  80,  90, 100, 110, 120, 130, 140,\n",
              "       150, 160, 170, 180, 190, 200, 210, 220, 230, 240, 250, 260, 270])"
            ]
          },
          "metadata": {},
          "execution_count": 72
        }
      ]
    },
    {
      "cell_type": "code",
      "source": [
        "a.reshape(2,8)"
      ],
      "metadata": {
        "id": "L1M6KlKTPGrQ",
        "colab": {
          "base_uri": "https://localhost:8080/",
          "height": 165
        },
        "outputId": "92954bf5-ae1f-4a46-8bef-ef3c0187b10c"
      },
      "execution_count": null,
      "outputs": [
        {
          "output_type": "error",
          "ename": "ValueError",
          "evalue": "ignored",
          "traceback": [
            "\u001b[0;31m---------------------------------------------------------------------------\u001b[0m",
            "\u001b[0;31mValueError\u001b[0m                                Traceback (most recent call last)",
            "\u001b[0;32m<ipython-input-70-17b4d0bd9f23>\u001b[0m in \u001b[0;36m<cell line: 1>\u001b[0;34m()\u001b[0m\n\u001b[0;32m----> 1\u001b[0;31m \u001b[0ma\u001b[0m\u001b[0;34m.\u001b[0m\u001b[0mreshape\u001b[0m\u001b[0;34m(\u001b[0m\u001b[0;36m2\u001b[0m\u001b[0;34m,\u001b[0m\u001b[0;36m8\u001b[0m\u001b[0;34m)\u001b[0m\u001b[0;34m\u001b[0m\u001b[0;34m\u001b[0m\u001b[0m\n\u001b[0m",
            "\u001b[0;31mValueError\u001b[0m: cannot reshape array of size 26 into shape (2,8)"
          ]
        }
      ]
    },
    {
      "cell_type": "code",
      "source": [
        "a.reshape(8,2)"
      ],
      "metadata": {
        "id": "F-SWYhuyPQam"
      },
      "execution_count": null,
      "outputs": []
    },
    {
      "cell_type": "code",
      "source": [
        "a.reshape(4,4)"
      ],
      "metadata": {
        "id": "Zfd10rDAPS9n"
      },
      "execution_count": null,
      "outputs": []
    },
    {
      "cell_type": "code",
      "source": [
        "a.reshape(2,4,2)"
      ],
      "metadata": {
        "id": "9v86VQMFPVUM"
      },
      "execution_count": null,
      "outputs": []
    },
    {
      "cell_type": "code",
      "source": [
        "a.reshape(2,2,2)"
      ],
      "metadata": {
        "colab": {
          "base_uri": "https://localhost:8080/",
          "height": 165
        },
        "id": "oz5pCS8iPYr0",
        "outputId": "d8b17346-59e6-4218-8ddf-8329c12a6652"
      },
      "execution_count": null,
      "outputs": [
        {
          "output_type": "error",
          "ename": "ValueError",
          "evalue": "ignored",
          "traceback": [
            "\u001b[0;31m---------------------------------------------------------------------------\u001b[0m",
            "\u001b[0;31mValueError\u001b[0m                                Traceback (most recent call last)",
            "\u001b[0;32m<ipython-input-22-9c16c6fa420c>\u001b[0m in \u001b[0;36m<cell line: 1>\u001b[0;34m()\u001b[0m\n\u001b[0;32m----> 1\u001b[0;31m \u001b[0ma\u001b[0m\u001b[0;34m.\u001b[0m\u001b[0mreshape\u001b[0m\u001b[0;34m(\u001b[0m\u001b[0;36m2\u001b[0m\u001b[0;34m,\u001b[0m\u001b[0;36m2\u001b[0m\u001b[0;34m,\u001b[0m\u001b[0;36m2\u001b[0m\u001b[0;34m)\u001b[0m\u001b[0;34m\u001b[0m\u001b[0;34m\u001b[0m\u001b[0m\n\u001b[0m",
            "\u001b[0;31mValueError\u001b[0m: cannot reshape array of size 26 into shape (2,2,2)"
          ]
        }
      ]
    },
    {
      "cell_type": "markdown",
      "source": [
        "#**append()**"
      ],
      "metadata": {
        "id": "yvilXDzCPgj5"
      }
    },
    {
      "cell_type": "markdown",
      "source": [
        "*append is applied between two arrays*"
      ],
      "metadata": {
        "id": "OPTPDtmPPk_Q"
      }
    },
    {
      "cell_type": "code",
      "source": [
        "a = np.array([234,387,465,834,964,201,543,500,823,645,833,923])\n",
        "print(a)"
      ],
      "metadata": {
        "colab": {
          "base_uri": "https://localhost:8080/"
        },
        "id": "xseKqG6zPy8x",
        "outputId": "a76917f5-3f6b-482f-958b-e6a25fec866e"
      },
      "execution_count": null,
      "outputs": [
        {
          "output_type": "stream",
          "name": "stdout",
          "text": [
            "[234 387 465 834 964 201 543 500 823 645 833 923]\n"
          ]
        }
      ]
    },
    {
      "cell_type": "code",
      "source": [
        "b = np.array([364,296,975,345,253,785,241,940,823,764,241,623])\n",
        "print(b)"
      ],
      "metadata": {
        "colab": {
          "base_uri": "https://localhost:8080/"
        },
        "id": "uxqfMdAdQLU1",
        "outputId": "32cb0494-7d9d-46f4-b4ff-c993abead897"
      },
      "execution_count": null,
      "outputs": [
        {
          "output_type": "stream",
          "name": "stdout",
          "text": [
            "[364 296 975 345 253 785 241 940 823 764 241 623]\n"
          ]
        }
      ]
    },
    {
      "cell_type": "code",
      "source": [
        "np.append(a,b)"
      ],
      "metadata": {
        "colab": {
          "base_uri": "https://localhost:8080/"
        },
        "id": "L8wK82_YQhbk",
        "outputId": "d62b9ae6-4e43-4a08-b6af-447addc4c752"
      },
      "execution_count": null,
      "outputs": [
        {
          "output_type": "execute_result",
          "data": {
            "text/plain": [
              "array([ 20,  30,  40,  50,  60,  70,  80,  90, 100, 110, 120, 130, 140,\n",
              "       150, 160, 170, 180, 190, 200, 210, 220, 230, 240, 250, 260, 270,\n",
              "       234, 387, 465, 834, 999, 201, 543, 500, 823, 645, 823, 923])"
            ]
          },
          "metadata": {},
          "execution_count": 73
        }
      ]
    },
    {
      "cell_type": "code",
      "source": [
        "a = np.array([[234,387,465,834,964,201],[543,500,823,645,833,923]])\n",
        "print(a)"
      ],
      "metadata": {
        "id": "27kKt9S_Qsaq",
        "colab": {
          "base_uri": "https://localhost:8080/"
        },
        "outputId": "4073caab-b51c-45d3-88e7-5beaa6b4579c"
      },
      "execution_count": null,
      "outputs": [
        {
          "output_type": "stream",
          "name": "stdout",
          "text": [
            "[[234 387 465 834 964 201]\n",
            " [543 500 823 645 833 923]]\n"
          ]
        }
      ]
    },
    {
      "cell_type": "markdown",
      "source": [
        "#**insert()**"
      ],
      "metadata": {
        "id": "tape2z88igZM"
      }
    },
    {
      "cell_type": "markdown",
      "metadata": {
        "id": "PZ89HrRAoXV9"
      },
      "source": [
        "\n",
        "insert is also similar to append\n",
        "\n",
        "insert is taken single dimension continous\n",
        "\n",
        "memory location index array"
      ]
    },
    {
      "cell_type": "code",
      "execution_count": null,
      "metadata": {
        "colab": {
          "base_uri": "https://localhost:8080/"
        },
        "id": "e_IwvZgfoWdT",
        "outputId": "9106468d-e0a3-44aa-9f45-d688066b444e"
      },
      "outputs": [
        {
          "output_type": "stream",
          "name": "stdout",
          "text": [
            "[[123 456 365 345 789 345]\n",
            " [334 778 567 375 238 567]]\n"
          ]
        }
      ],
      "source": [
        "a=np.array([[123,456,365,345,789,345],[334,778,567,375,238,567]])\n",
        "print(a)"
      ]
    },
    {
      "cell_type": "code",
      "execution_count": null,
      "metadata": {
        "colab": {
          "base_uri": "https://localhost:8080/"
        },
        "id": "8NKFhtU8ofSb",
        "outputId": "585fad74-93b4-46dd-877e-8b0fa9620c27"
      },
      "outputs": [
        {
          "output_type": "execute_result",
          "data": {
            "text/plain": [
              "array([123, 456, 365, 345, 789, 999, 345, 334, 778, 567, 375, 238, 567])"
            ]
          },
          "metadata": {},
          "execution_count": 79
        }
      ],
      "source": [
        "np.insert(a,5,999)"
      ]
    },
    {
      "cell_type": "code",
      "execution_count": null,
      "metadata": {
        "colab": {
          "base_uri": "https://localhost:8080/"
        },
        "id": "GOFvyutHoiBu",
        "outputId": "7f039181-8912-475c-aaa2-31e3184f2c49"
      },
      "outputs": [
        {
          "output_type": "execute_result",
          "data": {
            "text/plain": [
              "array([123, 456, 365, 345, 789, 999, 345, 333, 567, 133, 124, 345, 334,\n",
              "       778, 567, 375, 238, 567])"
            ]
          },
          "metadata": {},
          "execution_count": 78
        }
      ],
      "source": [
        "np.insert(a,5,[999,345,333,567,133,124])"
      ]
    },
    {
      "cell_type": "markdown",
      "source": [
        "#**inserting multuiple elements**"
      ],
      "metadata": {
        "id": "5rvSjNkqjO2w"
      }
    },
    {
      "cell_type": "markdown",
      "metadata": {
        "id": "LiuFkpTRome-"
      },
      "source": [
        "\n",
        "\n",
        "**result generated in single dimension only**\n",
        "\n",
        "**Subscript[ ] is used for inserting multiple elements**"
      ]
    },
    {
      "cell_type": "code",
      "execution_count": null,
      "metadata": {
        "colab": {
          "base_uri": "https://localhost:8080/"
        },
        "id": "la9sH-0uokFc",
        "outputId": "10fc470d-491e-4f7a-93d4-7cc691b650dc"
      },
      "outputs": [
        {
          "output_type": "execute_result",
          "data": {
            "text/plain": [
              "array([[123, 456, 365, 345, 789, 999],\n",
              "       [345, 333, 567, 133, 124, 345],\n",
              "       [334, 778, 567, 375, 238, 567]])"
            ]
          },
          "metadata": {},
          "execution_count": 80
        }
      ],
      "source": [
        "np.insert(a,5,[999,345,333,567,133,124]).reshape(3,6)"
      ]
    },
    {
      "cell_type": "code",
      "execution_count": null,
      "metadata": {
        "colab": {
          "base_uri": "https://localhost:8080/"
        },
        "id": "7LazsY9-oylD",
        "outputId": "e12349d6-21c8-43d4-c86f-168c1cef2dd7"
      },
      "outputs": [
        {
          "output_type": "execute_result",
          "data": {
            "text/plain": [
              "array([[[123, 456],\n",
              "        [365, 345],\n",
              "        [789, 999]],\n",
              "\n",
              "       [[345, 333],\n",
              "        [567, 133],\n",
              "        [124, 345]],\n",
              "\n",
              "       [[334, 778],\n",
              "        [567, 375],\n",
              "        [238, 567]]])"
            ]
          },
          "metadata": {},
          "execution_count": 81
        }
      ],
      "source": [
        "np.insert(a,5,[999,345,333,567,133,124]).reshape(3,3,2)"
      ]
    },
    {
      "cell_type": "markdown",
      "metadata": {
        "id": "2sCoVAtHo2AR"
      },
      "source": [
        "#**delete()**"
      ]
    },
    {
      "cell_type": "code",
      "execution_count": null,
      "metadata": {
        "colab": {
          "base_uri": "https://localhost:8080/"
        },
        "id": "wEX8C9-Ro0jg",
        "outputId": "a3c3433e-71e1-4e6b-b84d-0c9420548f3d"
      },
      "outputs": [
        {
          "output_type": "stream",
          "name": "stdout",
          "text": [
            "[123 344 566 567 745 123 454 334 778 567 375 238 567]\n"
          ]
        }
      ],
      "source": [
        "a=np.array([123,344,566,567,745,123,454,334,778,567,375,238,567])\n",
        "print(a)"
      ]
    },
    {
      "cell_type": "code",
      "source": [],
      "metadata": {
        "id": "KRJWqANQjqjR"
      },
      "execution_count": null,
      "outputs": []
    },
    {
      "cell_type": "code",
      "execution_count": null,
      "metadata": {
        "colab": {
          "base_uri": "https://localhost:8080/"
        },
        "id": "pDFSoo85o6Cy",
        "outputId": "4e2b1e7c-a519-4bca-a8ff-d5c233d736b3"
      },
      "outputs": [
        {
          "output_type": "execute_result",
          "data": {
            "text/plain": [
              "array([123, 344, 566, 567, 745, 123, 454, 334, 567, 375, 238, 567])"
            ]
          },
          "metadata": {},
          "execution_count": 83
        }
      ],
      "source": [
        "np.delete(a,8)"
      ]
    },
    {
      "cell_type": "code",
      "execution_count": null,
      "metadata": {
        "colab": {
          "base_uri": "https://localhost:8080/"
        },
        "id": "TGmrkmOeo7de",
        "outputId": "00c61cb1-9c86-4752-fda7-81002615570b"
      },
      "outputs": [
        {
          "output_type": "stream",
          "name": "stdout",
          "text": [
            "[[123 456 365 345 789 345]\n",
            " [334 778 567 375 238 567]]\n"
          ]
        }
      ],
      "source": [
        "a=np.array([[123,456,365,345,789,345],[334,778,567,375,238,567]])\n",
        "print(a)"
      ]
    },
    {
      "cell_type": "code",
      "execution_count": null,
      "metadata": {
        "colab": {
          "base_uri": "https://localhost:8080/"
        },
        "id": "OZZFA8Wio83f",
        "outputId": "f9ebc085-239d-4bc7-8ad7-51cb3ca96f79"
      },
      "outputs": [
        {
          "data": {
            "text/plain": [
              "array([123, 456, 365, 345, 789, 345, 778, 567, 375, 238, 567])"
            ]
          },
          "execution_count": 61,
          "metadata": {},
          "output_type": "execute_result"
        }
      ],
      "source": [
        "np.delete(a,6)"
      ]
    },
    {
      "cell_type": "code",
      "execution_count": null,
      "metadata": {
        "colab": {
          "base_uri": "https://localhost:8080/"
        },
        "id": "0Mkfg06ho-KC",
        "outputId": "53487765-33a4-445e-e94c-a8a01d8a63e1"
      },
      "outputs": [
        {
          "output_type": "execute_result",
          "data": {
            "text/plain": [
              "array([123, 456, 365, 345, 789, 345, 334, 778, 567, 375, 567])"
            ]
          },
          "metadata": {},
          "execution_count": 85
        }
      ],
      "source": [
        "np.delete(a,10)"
      ]
    },
    {
      "cell_type": "markdown",
      "source": [
        "#**concatenate()**\n"
      ],
      "metadata": {
        "id": "S84tap1JjvdY"
      }
    },
    {
      "cell_type": "markdown",
      "metadata": {
        "id": "Y4I3LszBpCJI"
      },
      "source": [
        "\n",
        "two different arrays are conatenated"
      ]
    },
    {
      "cell_type": "code",
      "execution_count": null,
      "metadata": {
        "colab": {
          "base_uri": "https://localhost:8080/"
        },
        "id": "sD79G7SipAHV",
        "outputId": "20a5ae1f-1521-4b34-8808-112710700e3d"
      },
      "outputs": [
        {
          "output_type": "execute_result",
          "data": {
            "text/plain": [
              "array([123, 344, 566, 567, 745, 123, 454, 334, 778, 567, 375, 238])"
            ]
          },
          "metadata": {},
          "execution_count": 86
        }
      ],
      "source": [
        "a=np.array([123,344,566,567,745,123,454,334,778,567,375,238])\n",
        "a"
      ]
    },
    {
      "cell_type": "code",
      "execution_count": null,
      "metadata": {
        "colab": {
          "base_uri": "https://localhost:8080/"
        },
        "id": "K8EaHWTQpHJu",
        "outputId": "18193b37-ee51-4cce-9f5d-a67068e73299"
      },
      "outputs": [
        {
          "output_type": "execute_result",
          "data": {
            "text/plain": [
              "array([123, 344, 566, 345, 567, 745, 334, 778, 567, 375, 238, 567])"
            ]
          },
          "metadata": {},
          "execution_count": 87
        }
      ],
      "source": [
        "b=np.array([123,344,566,345,567,745,334,778,567,375,238,567])\n",
        "b"
      ]
    },
    {
      "cell_type": "code",
      "execution_count": null,
      "metadata": {
        "colab": {
          "base_uri": "https://localhost:8080/"
        },
        "id": "5dIJtXQkpIy2",
        "outputId": "0af130cc-479e-46d9-ee5e-b13c8173a2f0"
      },
      "outputs": [
        {
          "output_type": "execute_result",
          "data": {
            "text/plain": [
              "array([123, 344, 566, 567, 745, 123, 454, 334, 778, 567, 375, 238, 123,\n",
              "       344, 566, 345, 567, 745, 334, 778, 567, 375, 238, 567])"
            ]
          },
          "metadata": {},
          "execution_count": 88
        }
      ],
      "source": [
        "np.concatenate((a,b)) #all elements will be in one dimension only"
      ]
    },
    {
      "cell_type": "code",
      "execution_count": null,
      "metadata": {
        "colab": {
          "base_uri": "https://localhost:8080/"
        },
        "id": "FkjBxGHRpKd5",
        "outputId": "7357727d-a83d-4b93-b7fa-f2af390b5639"
      },
      "outputs": [
        {
          "output_type": "execute_result",
          "data": {
            "text/plain": [
              "array([123, 344, 566, 567, 745, 123, 454, 334, 778, 567, 375, 238, 123,\n",
              "       344, 566, 345, 567, 745, 334, 778, 567, 375, 238, 567])"
            ]
          },
          "metadata": {},
          "execution_count": 89
        }
      ],
      "source": [
        "np.concatenate((a,b),axis=0) #row case concatination"
      ]
    },
    {
      "cell_type": "markdown",
      "metadata": {
        "id": "5vWB8epQpRXd"
      },
      "source": [
        "#**stack()**"
      ]
    },
    {
      "cell_type": "code",
      "execution_count": null,
      "metadata": {
        "colab": {
          "base_uri": "https://localhost:8080/"
        },
        "id": "Tz-3Tzi5pMO8",
        "outputId": "712d0280-9e1b-4814-9aab-4d460bc0eaeb"
      },
      "outputs": [
        {
          "output_type": "stream",
          "name": "stdout",
          "text": [
            "[123 344 566 567 745 123 454 334 778 567 375 238]\n"
          ]
        }
      ],
      "source": [
        "a=np.array([123,344,566,567,745,123,454,334,778,567,375,238])\n",
        "print(a)"
      ]
    },
    {
      "cell_type": "code",
      "execution_count": null,
      "metadata": {
        "colab": {
          "base_uri": "https://localhost:8080/"
        },
        "id": "28uQJtvdpUrm",
        "outputId": "a1040d7e-d138-481a-b433-a1793772aada"
      },
      "outputs": [
        {
          "output_type": "stream",
          "name": "stdout",
          "text": [
            "[123 344 566 345 567 745 334 778 567 375 238 567]\n"
          ]
        }
      ],
      "source": [
        "b=np.array([123,344,566,345,567,745,334,778,567,375,238,567])\n",
        "print(b)"
      ]
    },
    {
      "cell_type": "code",
      "execution_count": null,
      "metadata": {
        "colab": {
          "base_uri": "https://localhost:8080/"
        },
        "id": "dqoltU6OpXA5",
        "outputId": "65577950-0ea9-42cb-fe28-1c3fc34652b8"
      },
      "outputs": [
        {
          "output_type": "execute_result",
          "data": {
            "text/plain": [
              "array([[123, 344, 566, 567, 745, 123, 454, 334, 778, 567, 375, 238],\n",
              "       [123, 344, 566, 345, 567, 745, 334, 778, 567, 375, 238, 567]])"
            ]
          },
          "metadata": {},
          "execution_count": 92
        }
      ],
      "source": [
        "np.stack((a,b))  #stack seperates two arrays elements but concatenation not seperated the array elements"
      ]
    },
    {
      "cell_type": "code",
      "execution_count": null,
      "metadata": {
        "colab": {
          "base_uri": "https://localhost:8080/"
        },
        "id": "PLLu8tCspZRp",
        "outputId": "82a90b75-602e-4481-f467-2563e73eab2b"
      },
      "outputs": [
        {
          "output_type": "execute_result",
          "data": {
            "text/plain": [
              "array([[123, 344, 566, 567, 745, 123, 454, 334, 778, 567, 375, 238],\n",
              "       [123, 344, 566, 345, 567, 745, 334, 778, 567, 375, 238, 567]])"
            ]
          },
          "metadata": {},
          "execution_count": 93
        }
      ],
      "source": [
        "res=np.stack((a,b))\n",
        "res"
      ]
    },
    {
      "cell_type": "code",
      "execution_count": null,
      "metadata": {
        "colab": {
          "base_uri": "https://localhost:8080/"
        },
        "id": "N2q0X1g7pbM7",
        "outputId": "28ac228c-a494-40c7-add8-ced24f1db395"
      },
      "outputs": [
        {
          "output_type": "execute_result",
          "data": {
            "text/plain": [
              "array([123, 344, 566, 567, 745, 123, 454, 334, 778, 567, 375, 238])"
            ]
          },
          "metadata": {},
          "execution_count": 94
        }
      ],
      "source": [
        "res[0]"
      ]
    },
    {
      "cell_type": "code",
      "execution_count": null,
      "metadata": {
        "colab": {
          "base_uri": "https://localhost:8080/"
        },
        "id": "4a0P7tHepdqf",
        "outputId": "0d0afb48-d5f7-430c-924b-020f1b0f0319"
      },
      "outputs": [
        {
          "data": {
            "text/plain": [
              "array([123, 344, 566, 345, 567, 745, 334, 778, 567, 375, 238, 567])"
            ]
          },
          "execution_count": 72,
          "metadata": {},
          "output_type": "execute_result"
        }
      ],
      "source": [
        "res[1]"
      ]
    },
    {
      "cell_type": "code",
      "execution_count": null,
      "metadata": {
        "colab": {
          "base_uri": "https://localhost:8080/"
        },
        "id": "k_HFbFXLpe6x",
        "outputId": "9450950e-9704-417f-9484-a51161bfd13e"
      },
      "outputs": [
        {
          "output_type": "execute_result",
          "data": {
            "text/plain": [
              "array([123, 344, 566, 567, 745, 123, 454, 334, 778, 567, 375, 238, 123,\n",
              "       344, 566, 345, 567, 745, 334, 778, 567, 375, 238, 567])"
            ]
          },
          "metadata": {},
          "execution_count": 95
        }
      ],
      "source": [
        "res1=np.concatenate((a,b))\n",
        "res1"
      ]
    },
    {
      "cell_type": "code",
      "execution_count": null,
      "metadata": {
        "colab": {
          "base_uri": "https://localhost:8080/"
        },
        "id": "vIZQ66tLpgZM",
        "outputId": "bb24db1a-8590-46e3-8421-120098474136"
      },
      "outputs": [
        {
          "output_type": "execute_result",
          "data": {
            "text/plain": [
              "567"
            ]
          },
          "metadata": {},
          "execution_count": 96
        }
      ],
      "source": [
        "res1[9]"
      ]
    },
    {
      "cell_type": "markdown",
      "metadata": {
        "id": "Kr2DlBbtpkUQ"
      },
      "source": [
        "#**vstack()**\n",
        "\n",
        "vertical stack"
      ]
    },
    {
      "cell_type": "code",
      "execution_count": null,
      "metadata": {
        "colab": {
          "base_uri": "https://localhost:8080/"
        },
        "id": "oVEjB99cphzy",
        "outputId": "6b1be1c4-2a1d-4469-b974-6d2b1548c933"
      },
      "outputs": [
        {
          "output_type": "execute_result",
          "data": {
            "text/plain": [
              "array([[10, 20],\n",
              "       [30, 40]])"
            ]
          },
          "metadata": {},
          "execution_count": 97
        }
      ],
      "source": [
        "a=np.array([[10,20],[30,40]])\n",
        "a"
      ]
    },
    {
      "cell_type": "code",
      "execution_count": null,
      "metadata": {
        "colab": {
          "base_uri": "https://localhost:8080/"
        },
        "id": "ybDtDYOcppb0",
        "outputId": "d1bcfdcb-b120-4849-ebeb-03842c3e1d95"
      },
      "outputs": [
        {
          "output_type": "execute_result",
          "data": {
            "text/plain": [
              "array([[50, 60],\n",
              "       [70, 80]])"
            ]
          },
          "metadata": {},
          "execution_count": 98
        }
      ],
      "source": [
        "b=np.array([[50,60],[70,80]])\n",
        "b"
      ]
    },
    {
      "cell_type": "code",
      "execution_count": null,
      "metadata": {
        "colab": {
          "base_uri": "https://localhost:8080/"
        },
        "id": "jjFsxo9_pq9U",
        "outputId": "c0a9b00c-21f0-4ebe-8f5a-550630f801a1"
      },
      "outputs": [
        {
          "output_type": "execute_result",
          "data": {
            "text/plain": [
              "array([[10, 20],\n",
              "       [30, 40],\n",
              "       [50, 60],\n",
              "       [70, 80]])"
            ]
          },
          "metadata": {},
          "execution_count": 99
        }
      ],
      "source": [
        "np.vstack((a,b))"
      ]
    },
    {
      "cell_type": "markdown",
      "metadata": {
        "id": "_VIzi3-gpwXh"
      },
      "source": [
        "#**hstack()**\n",
        "\n",
        "horizontal stack"
      ]
    },
    {
      "cell_type": "code",
      "execution_count": null,
      "metadata": {
        "colab": {
          "base_uri": "https://localhost:8080/"
        },
        "id": "Fvs34CvOpsg5",
        "outputId": "11330e18-75a3-404d-987d-0b3e9c879a77"
      },
      "outputs": [
        {
          "output_type": "execute_result",
          "data": {
            "text/plain": [
              "array([[10, 20, 50, 60],\n",
              "       [30, 40, 70, 80]])"
            ]
          },
          "metadata": {},
          "execution_count": 100
        }
      ],
      "source": [
        "np.hstack((a,b)) #concatenation with respect to axis"
      ]
    },
    {
      "cell_type": "code",
      "execution_count": null,
      "metadata": {
        "colab": {
          "base_uri": "https://localhost:8080/"
        },
        "id": "OTYVmtwSp0K8",
        "outputId": "fff8b3b8-9a89-4a96-f419-b9960e1e406e"
      },
      "outputs": [
        {
          "data": {
            "text/plain": [
              "array([[10, 20],\n",
              "       [30, 40],\n",
              "       [50, 60],\n",
              "       [70, 80]])"
            ]
          },
          "execution_count": 80,
          "metadata": {},
          "output_type": "execute_result"
        }
      ],
      "source": [
        "np.concatenate((a,b))"
      ]
    },
    {
      "cell_type": "code",
      "execution_count": null,
      "metadata": {
        "colab": {
          "base_uri": "https://localhost:8080/"
        },
        "id": "0sig5_1lp1uK",
        "outputId": "dd82b3ba-6607-4d00-93b9-9b3d7ea4dae0"
      },
      "outputs": [
        {
          "output_type": "execute_result",
          "data": {
            "text/plain": [
              "array([[10, 20, 50, 60],\n",
              "       [30, 40, 70, 80]])"
            ]
          },
          "metadata": {},
          "execution_count": 101
        }
      ],
      "source": [
        "np.concatenate((a,b),axis=1) #hstack"
      ]
    },
    {
      "cell_type": "markdown",
      "metadata": {
        "id": "lN-ORSVcp40b"
      },
      "source": [
        "#**dstack()**\n",
        "\n",
        "depth wise"
      ]
    },
    {
      "cell_type": "code",
      "execution_count": null,
      "metadata": {
        "colab": {
          "base_uri": "https://localhost:8080/"
        },
        "id": "AV1iG-jOp3Nw",
        "outputId": "99962268-b12f-49df-e851-45491f88f104"
      },
      "outputs": [
        {
          "output_type": "execute_result",
          "data": {
            "text/plain": [
              "array([[10, 20],\n",
              "       [30, 40]])"
            ]
          },
          "metadata": {},
          "execution_count": 102
        }
      ],
      "source": [
        "a=np.array([[10,20],[30,40]])\n",
        "a"
      ]
    },
    {
      "cell_type": "code",
      "execution_count": null,
      "metadata": {
        "colab": {
          "base_uri": "https://localhost:8080/"
        },
        "id": "k_HJgFgKp8Gu",
        "outputId": "89b2700a-3234-4a22-f83e-8b29b5512113"
      },
      "outputs": [
        {
          "output_type": "execute_result",
          "data": {
            "text/plain": [
              "array([[50, 60],\n",
              "       [70, 80]])"
            ]
          },
          "metadata": {},
          "execution_count": 103
        }
      ],
      "source": [
        "b=np.array([[50,60],[70,80]])\n",
        "b"
      ]
    },
    {
      "cell_type": "code",
      "execution_count": null,
      "metadata": {
        "colab": {
          "base_uri": "https://localhost:8080/"
        },
        "id": "z5EOZeREp9_j",
        "outputId": "e2770904-1699-43a5-d2bb-ae15c01883e8"
      },
      "outputs": [
        {
          "output_type": "execute_result",
          "data": {
            "text/plain": [
              "array([[[10, 50],\n",
              "        [20, 60]],\n",
              "\n",
              "       [[30, 70],\n",
              "        [40, 80]]])"
            ]
          },
          "metadata": {},
          "execution_count": 105
        }
      ],
      "source": [
        "np.dstack((a,b))"
      ]
    },
    {
      "cell_type": "markdown",
      "metadata": {
        "id": "ia2PplLHqAmA"
      },
      "source": [
        "#**split()**"
      ]
    },
    {
      "cell_type": "code",
      "execution_count": null,
      "metadata": {
        "colab": {
          "base_uri": "https://localhost:8080/"
        },
        "id": "WW2nq0p9p_cz",
        "outputId": "0fdd41b5-0dc1-4c96-d3b0-a2c0f5a47e61"
      },
      "outputs": [
        {
          "output_type": "stream",
          "name": "stdout",
          "text": [
            "[ 5  7  9 11 13 15 17 19 21 23 25 27 29 31 33 35 37 39 41 43 45 47 49 51\n",
            " 53 55 57 59]\n"
          ]
        }
      ],
      "source": [
        "x=np.arange(5,60,2)\n",
        "print(x)"
      ]
    },
    {
      "cell_type": "code",
      "execution_count": null,
      "metadata": {
        "colab": {
          "base_uri": "https://localhost:8080/"
        },
        "id": "WncXkbi-qGrJ",
        "outputId": "2b7863f7-da14-4160-92fb-ae2ebc5f150c"
      },
      "outputs": [
        {
          "output_type": "execute_result",
          "data": {
            "text/plain": [
              "[array([ 5,  7,  9, 11]),\n",
              " array([13, 15, 17, 19]),\n",
              " array([21, 23, 25, 27]),\n",
              " array([29, 31, 33, 35]),\n",
              " array([37, 39, 41, 43]),\n",
              " array([45, 47, 49, 51]),\n",
              " array([53, 55, 57, 59])]"
            ]
          },
          "metadata": {},
          "execution_count": 106
        }
      ],
      "source": [
        "np.split(x,7) #equal divisions"
      ]
    },
    {
      "cell_type": "code",
      "execution_count": null,
      "metadata": {
        "colab": {
          "base_uri": "https://localhost:8080/"
        },
        "id": "uRJkvUYiqIZk",
        "outputId": "d49da32d-4432-463f-a950-5b0ec11cf2d4"
      },
      "outputs": [
        {
          "output_type": "execute_result",
          "data": {
            "text/plain": [
              "[array([ 5,  7,  9, 11, 13, 15, 17, 19, 21, 23, 25, 27, 29, 31]),\n",
              " array([33, 35, 37, 39, 41, 43, 45, 47, 49, 51, 53, 55, 57, 59])]"
            ]
          },
          "metadata": {},
          "execution_count": 107
        }
      ],
      "source": [
        "np.split(x,2)"
      ]
    },
    {
      "cell_type": "code",
      "execution_count": null,
      "metadata": {
        "colab": {
          "base_uri": "https://localhost:8080/"
        },
        "id": "dxvD7BKvqKY1",
        "outputId": "05376eeb-d2ae-4975-afb8-34473719b4f1"
      },
      "outputs": [
        {
          "output_type": "execute_result",
          "data": {
            "text/plain": [
              "[array([5, 7]),\n",
              " array([ 9, 11]),\n",
              " array([13, 15]),\n",
              " array([17, 19]),\n",
              " array([21, 23]),\n",
              " array([25, 27]),\n",
              " array([29, 31]),\n",
              " array([33, 35]),\n",
              " array([37, 39]),\n",
              " array([41, 43]),\n",
              " array([45, 47]),\n",
              " array([49, 51]),\n",
              " array([53, 55]),\n",
              " array([57, 59])]"
            ]
          },
          "metadata": {},
          "execution_count": 108
        }
      ],
      "source": [
        "np.split(x,14)"
      ]
    },
    {
      "cell_type": "code",
      "execution_count": null,
      "metadata": {
        "colab": {
          "base_uri": "https://localhost:8080/"
        },
        "id": "7nkoc2wfqMHp",
        "outputId": "6560be5a-9ded-4293-b0d0-39c06273f414"
      },
      "outputs": [
        {
          "output_type": "execute_result",
          "data": {
            "text/plain": [
              "[array([ 5,  7,  9, 11]),\n",
              " array([13, 15, 17, 19]),\n",
              " array([21, 23, 25, 27]),\n",
              " array([29, 31, 33, 35]),\n",
              " array([37, 39, 41, 43]),\n",
              " array([45, 47, 49, 51]),\n",
              " array([53, 55, 57, 59])]"
            ]
          },
          "metadata": {},
          "execution_count": 109
        }
      ],
      "source": [
        "np.split(x,7)"
      ]
    },
    {
      "cell_type": "code",
      "execution_count": null,
      "metadata": {
        "colab": {
          "base_uri": "https://localhost:8080/"
        },
        "id": "CetBpG6BqOdB",
        "outputId": "cb889168-2898-42de-b77c-886152f1cfab"
      },
      "outputs": [
        {
          "output_type": "stream",
          "name": "stdout",
          "text": [
            "[array([ 5,  7,  9, 11]), array([13, 15, 17, 19]), array([21, 23, 25, 27]), array([29, 31, 33, 35]), array([37, 39, 41, 43]), array([45, 47, 49, 51]), array([53, 55, 57, 59])]\n"
          ]
        }
      ],
      "source": [
        "z=np.split(x,7)\n",
        "print(z)"
      ]
    },
    {
      "cell_type": "code",
      "execution_count": null,
      "metadata": {
        "colab": {
          "base_uri": "https://localhost:8080/"
        },
        "id": "1t6SSfnmqQSs",
        "outputId": "5e58f227-fed2-47e6-9bf0-47449058c2a0"
      },
      "outputs": [
        {
          "output_type": "execute_result",
          "data": {
            "text/plain": [
              "array([ 5,  7,  9, 11])"
            ]
          },
          "metadata": {},
          "execution_count": 111
        }
      ],
      "source": [
        "S1,S2,S3,S4,S5,S6,S7=np.split(x,7)\n",
        "S1"
      ]
    },
    {
      "cell_type": "code",
      "execution_count": null,
      "metadata": {
        "colab": {
          "base_uri": "https://localhost:8080/"
        },
        "id": "r3ATfhbrqWBO",
        "outputId": "c9f187bb-3842-4b7c-cfda-5508d9128145"
      },
      "outputs": [
        {
          "data": {
            "text/plain": [
              "array([13, 15, 17, 19])"
            ]
          },
          "execution_count": 93,
          "metadata": {},
          "output_type": "execute_result"
        }
      ],
      "source": [
        "S2"
      ]
    },
    {
      "cell_type": "code",
      "execution_count": null,
      "metadata": {
        "colab": {
          "base_uri": "https://localhost:8080/"
        },
        "id": "qi5-oPARqrrO",
        "outputId": "cc47a5d1-cc8f-4da8-93e2-89bd165e8929"
      },
      "outputs": [
        {
          "output_type": "execute_result",
          "data": {
            "text/plain": [
              "array([21, 23, 25, 27])"
            ]
          },
          "metadata": {},
          "execution_count": 112
        }
      ],
      "source": [
        "S3"
      ]
    },
    {
      "cell_type": "code",
      "execution_count": null,
      "metadata": {
        "colab": {
          "base_uri": "https://localhost:8080/"
        },
        "id": "Y_k3xjNHquFv",
        "outputId": "a811df34-5590-42fd-d8db-a8591e670938"
      },
      "outputs": [
        {
          "data": {
            "text/plain": [
              "array([29, 31, 33, 35])"
            ]
          },
          "execution_count": 95,
          "metadata": {},
          "output_type": "execute_result"
        }
      ],
      "source": [
        "S4"
      ]
    },
    {
      "cell_type": "code",
      "execution_count": null,
      "metadata": {
        "colab": {
          "base_uri": "https://localhost:8080/"
        },
        "id": "RUA1vccoqung",
        "outputId": "91739d5f-40c3-4e0b-94f4-b84a53596cda"
      },
      "outputs": [
        {
          "output_type": "execute_result",
          "data": {
            "text/plain": [
              "array([37, 39, 41, 43])"
            ]
          },
          "metadata": {},
          "execution_count": 113
        }
      ],
      "source": [
        "S5"
      ]
    },
    {
      "cell_type": "code",
      "execution_count": null,
      "metadata": {
        "colab": {
          "base_uri": "https://localhost:8080/"
        },
        "id": "BaAKQDuaqvIz",
        "outputId": "d489111c-853b-40e4-812d-6cd6283f8498"
      },
      "outputs": [
        {
          "data": {
            "text/plain": [
              "array([45, 47, 49, 51])"
            ]
          },
          "execution_count": 97,
          "metadata": {},
          "output_type": "execute_result"
        }
      ],
      "source": [
        "S6"
      ]
    },
    {
      "cell_type": "code",
      "execution_count": null,
      "metadata": {
        "colab": {
          "base_uri": "https://localhost:8080/"
        },
        "id": "PMvCWfcoqvsN",
        "outputId": "c09eb8b5-86d2-4032-b1dc-5fdfe4f82f5c"
      },
      "outputs": [
        {
          "output_type": "execute_result",
          "data": {
            "text/plain": [
              "array([53, 55, 57, 59])"
            ]
          },
          "metadata": {},
          "execution_count": 114
        }
      ],
      "source": [
        "S7"
      ]
    },
    {
      "cell_type": "markdown",
      "metadata": {
        "id": "FWYQ609MqyN7"
      },
      "source": [
        "#**where()**\n",
        "\n",
        "it checks whether the elements are present in the array or not"
      ]
    },
    {
      "cell_type": "code",
      "execution_count": null,
      "metadata": {
        "colab": {
          "base_uri": "https://localhost:8080/"
        },
        "id": "IjRAT3-4qwKN",
        "outputId": "872e7ef5-b516-44de-cf16-2c4772da6ecc"
      },
      "outputs": [
        {
          "output_type": "execute_result",
          "data": {
            "text/plain": [
              "array([[ 5, 10, 15],\n",
              "       [20, 25, 30],\n",
              "       [35, 40, 45],\n",
              "       [50, 55, 60]])"
            ]
          },
          "metadata": {},
          "execution_count": 116
        }
      ],
      "source": [
        "a"
      ]
    },
    {
      "cell_type": "code",
      "execution_count": null,
      "metadata": {
        "colab": {
          "base_uri": "https://localhost:8080/"
        },
        "id": "jxqaUhsdq_m5",
        "outputId": "c76c1b57-5675-4a47-ca90-0b9b9d3739aa"
      },
      "outputs": [
        {
          "output_type": "execute_result",
          "data": {
            "text/plain": [
              "array([[ 5, 10, 15],\n",
              "       [20, 25, 30],\n",
              "       [35, 40, 45],\n",
              "       [50, 55, 60]])"
            ]
          },
          "metadata": {},
          "execution_count": 115
        }
      ],
      "source": [
        "a=np.arange(5,65,5).reshape(4,3)\n",
        "a"
      ]
    },
    {
      "cell_type": "code",
      "execution_count": null,
      "metadata": {
        "colab": {
          "base_uri": "https://localhost:8080/"
        },
        "id": "WT9woQOfrCzR",
        "outputId": "fd2e2fb9-486d-421a-b440-330d46783e0b"
      },
      "outputs": [
        {
          "output_type": "execute_result",
          "data": {
            "text/plain": [
              "(array([3]), array([1]))"
            ]
          },
          "metadata": {},
          "execution_count": 117
        }
      ],
      "source": [
        "np.where(a==55)"
      ]
    },
    {
      "cell_type": "code",
      "execution_count": null,
      "metadata": {
        "colab": {
          "base_uri": "https://localhost:8080/"
        },
        "id": "dJrJz8eZrEpT",
        "outputId": "71174794-d490-4539-8f87-3ea7fc28ecf2"
      },
      "outputs": [
        {
          "output_type": "execute_result",
          "data": {
            "text/plain": [
              "array([[ 5, 10],\n",
              "       [15, 20],\n",
              "       [25, 30],\n",
              "       [35, 40],\n",
              "       [45, 50],\n",
              "       [55, 60]])"
            ]
          },
          "metadata": {},
          "execution_count": 118
        }
      ],
      "source": [
        "a=np.arange(5,65,5).reshape(6,2)\n",
        "a"
      ]
    },
    {
      "cell_type": "code",
      "execution_count": null,
      "metadata": {
        "colab": {
          "base_uri": "https://localhost:8080/"
        },
        "id": "W7NNX76vrGrd",
        "outputId": "ae79afe1-61d2-43cc-a8e3-f4d753657b4a"
      },
      "outputs": [
        {
          "output_type": "execute_result",
          "data": {
            "text/plain": [
              "(array([3]), array([1]))"
            ]
          },
          "metadata": {},
          "execution_count": 119
        }
      ],
      "source": [
        "np.where(a==40)"
      ]
    },
    {
      "cell_type": "code",
      "execution_count": null,
      "metadata": {
        "colab": {
          "base_uri": "https://localhost:8080/"
        },
        "id": "NkIqRf44rIfd",
        "outputId": "a56aff3d-cfb4-46b5-b3f3-00b3e771e369"
      },
      "outputs": [
        {
          "output_type": "execute_result",
          "data": {
            "text/plain": [
              "array([10, 16, 22, 28, 34, 40, 46, 52, 58, 64, 70, 76, 82, 88, 94])"
            ]
          },
          "metadata": {},
          "execution_count": 120
        }
      ],
      "source": [
        "b=np.arange(10,100,6)\n",
        "b"
      ]
    },
    {
      "cell_type": "code",
      "execution_count": null,
      "metadata": {
        "colab": {
          "base_uri": "https://localhost:8080/"
        },
        "id": "qLoBxbFXrKFk",
        "outputId": "d055de89-c743-480d-86ff-574a4b856f30"
      },
      "outputs": [
        {
          "output_type": "execute_result",
          "data": {
            "text/plain": [
              "(array([7]),)"
            ]
          },
          "metadata": {},
          "execution_count": 121
        }
      ],
      "source": [
        "np.where(b==52)"
      ]
    },
    {
      "cell_type": "code",
      "execution_count": null,
      "metadata": {
        "colab": {
          "base_uri": "https://localhost:8080/"
        },
        "id": "YCCyADlhrL5P",
        "outputId": "be78a627-0a1a-49e3-8d2e-efc7507a1400"
      },
      "outputs": [
        {
          "output_type": "execute_result",
          "data": {
            "text/plain": [
              "array([[ 5, 10],\n",
              "       [15, 20],\n",
              "       [25, 30],\n",
              "       [35, 40],\n",
              "       [45, 50],\n",
              "       [55, 60]])"
            ]
          },
          "metadata": {},
          "execution_count": 123
        }
      ],
      "source": [
        "a"
      ]
    },
    {
      "cell_type": "code",
      "execution_count": null,
      "metadata": {
        "colab": {
          "base_uri": "https://localhost:8080/"
        },
        "id": "iWlbjziurMtK",
        "outputId": "551f0633-935d-4009-a43f-3597a91deaac"
      },
      "outputs": [
        {
          "output_type": "execute_result",
          "data": {
            "text/plain": [
              "(array([1, 3, 5]), array([1, 1, 1]))"
            ]
          },
          "metadata": {},
          "execution_count": 122
        }
      ],
      "source": [
        "np.where(a%20==0)"
      ]
    },
    {
      "cell_type": "markdown",
      "metadata": {
        "id": "-HfdbNK6rPy6"
      },
      "source": [
        "#**searchsorted()**"
      ]
    },
    {
      "cell_type": "code",
      "execution_count": null,
      "metadata": {
        "colab": {
          "base_uri": "https://localhost:8080/"
        },
        "id": "12FDn5qmrO0D",
        "outputId": "ac0b6752-0453-4b33-f70f-72026e485f3a"
      },
      "outputs": [
        {
          "output_type": "execute_result",
          "data": {
            "text/plain": [
              "array([112,  34,  45,   6, 345,   3,  78, 788,   9])"
            ]
          },
          "metadata": {},
          "execution_count": 125
        }
      ],
      "source": [
        "a=np.array([112,34,45,6,345,3,78,788,9])\n",
        "a"
      ]
    },
    {
      "cell_type": "code",
      "execution_count": null,
      "metadata": {
        "colab": {
          "base_uri": "https://localhost:8080/"
        },
        "id": "6IYPUfSQre9n",
        "outputId": "9b9207a5-515f-4046-9cfb-f04a47db5cc2"
      },
      "outputs": [
        {
          "output_type": "execute_result",
          "data": {
            "text/plain": [
              "4"
            ]
          },
          "metadata": {},
          "execution_count": 126
        }
      ],
      "source": [
        "b=np.searchsorted(a,112)\n",
        "b"
      ]
    },
    {
      "cell_type": "code",
      "execution_count": null,
      "metadata": {
        "colab": {
          "base_uri": "https://localhost:8080/"
        },
        "id": "98J7KQx9rgZB",
        "outputId": "cdd65ffb-5b52-4f59-c432-1db4d09e9e1f"
      },
      "outputs": [
        {
          "output_type": "execute_result",
          "data": {
            "text/plain": [
              "0"
            ]
          },
          "metadata": {},
          "execution_count": 127
        }
      ],
      "source": [
        "np.searchsorted(a,34)"
      ]
    },
    {
      "cell_type": "code",
      "execution_count": null,
      "metadata": {
        "colab": {
          "base_uri": "https://localhost:8080/"
        },
        "id": "NbAGkqE-rie5",
        "outputId": "447fe271-cc7f-47ea-95ed-dedf82d05df7"
      },
      "outputs": [
        {
          "data": {
            "text/plain": [
              "0"
            ]
          },
          "execution_count": 111,
          "metadata": {},
          "output_type": "execute_result"
        }
      ],
      "source": [
        "np.searchsorted(a,3)"
      ]
    },
    {
      "cell_type": "code",
      "execution_count": null,
      "metadata": {
        "colab": {
          "base_uri": "https://localhost:8080/"
        },
        "id": "MhjzBACwrm_p",
        "outputId": "0689edb6-214f-49c6-c032-82485551856b"
      },
      "outputs": [
        {
          "output_type": "execute_result",
          "data": {
            "text/plain": [
              "4"
            ]
          },
          "metadata": {},
          "execution_count": 128
        }
      ],
      "source": [
        "np.searchsorted(a,78)"
      ]
    },
    {
      "cell_type": "code",
      "execution_count": null,
      "metadata": {
        "colab": {
          "base_uri": "https://localhost:8080/"
        },
        "id": "_sgVh_j0rpID",
        "outputId": "67c567ca-e096-4c3d-9867-2c4062509564"
      },
      "outputs": [
        {
          "output_type": "execute_result",
          "data": {
            "text/plain": [
              "4"
            ]
          },
          "metadata": {},
          "execution_count": 129
        }
      ],
      "source": [
        "np.searchsorted(a,345)"
      ]
    },
    {
      "cell_type": "code",
      "execution_count": null,
      "metadata": {
        "colab": {
          "base_uri": "https://localhost:8080/"
        },
        "id": "5-QMqng-rqcx",
        "outputId": "776d18ea-8f43-4e8f-ce64-8d720f591a63"
      },
      "outputs": [
        {
          "output_type": "execute_result",
          "data": {
            "text/plain": [
              "7"
            ]
          },
          "metadata": {},
          "execution_count": 130
        }
      ],
      "source": [
        "np.searchsorted(a,788)"
      ]
    },
    {
      "cell_type": "markdown",
      "metadata": {
        "id": "OOd_yCYPry4V"
      },
      "source": [
        "#**Aritrhmetic Operations**\n",
        "\n"
      ]
    },
    {
      "cell_type": "markdown",
      "source": [
        "add()\n",
        "\n",
        "subtract()\n",
        "\n",
        "multiply()\n",
        "\n",
        "divide()\n",
        "\n",
        "exp()\n",
        "\n",
        "sqrt()\n",
        "\n",
        "comparision()"
      ],
      "metadata": {
        "id": "CasGwFtVWLuU"
      }
    },
    {
      "cell_type": "markdown",
      "metadata": {
        "id": "F90D82OisOyY"
      },
      "source": [
        "##**add()**"
      ]
    },
    {
      "cell_type": "code",
      "execution_count": null,
      "metadata": {
        "colab": {
          "base_uri": "https://localhost:8080/"
        },
        "id": "Sfa4BUpCrsIT",
        "outputId": "e4dbe254-7507-474f-80ac-de3d9edee179"
      },
      "outputs": [
        {
          "output_type": "stream",
          "name": "stdout",
          "text": [
            "[[12 45 34]\n",
            " [56 78 76]]\n"
          ]
        }
      ],
      "source": [
        "a=np.array([[12,45,34],[56,78,76]])\n",
        "print(a)"
      ]
    },
    {
      "cell_type": "code",
      "execution_count": null,
      "metadata": {
        "colab": {
          "base_uri": "https://localhost:8080/"
        },
        "id": "TzYa3M74sTP1",
        "outputId": "39ad3a01-47ab-4d3f-c509-b34e90f90c5d"
      },
      "outputs": [
        {
          "output_type": "stream",
          "name": "stdout",
          "text": [
            "[[15 65 38]\n",
            " [46 70 95]]\n"
          ]
        }
      ],
      "source": [
        "b=np.array([[15,65,38],[46,70,95]])\n",
        "print(b)"
      ]
    },
    {
      "cell_type": "code",
      "execution_count": null,
      "metadata": {
        "colab": {
          "base_uri": "https://localhost:8080/"
        },
        "id": "69qNaKvssVI8",
        "outputId": "bd62686d-a237-4896-83cf-259ea20b6c6a"
      },
      "outputs": [
        {
          "output_type": "execute_result",
          "data": {
            "text/plain": [
              "array([[ 27, 110,  72],\n",
              "       [102, 148, 171]])"
            ]
          },
          "metadata": {},
          "execution_count": 133
        }
      ],
      "source": [
        "np.add(a,b)"
      ]
    },
    {
      "cell_type": "code",
      "execution_count": null,
      "metadata": {
        "colab": {
          "base_uri": "https://localhost:8080/"
        },
        "id": "vrYO5MrFsW-C",
        "outputId": "d031c5c9-a39f-46b3-a977-5340d07d7753"
      },
      "outputs": [
        {
          "name": "stdout",
          "output_type": "stream",
          "text": [
            "[[34 45 22]\n",
            " [34 75 89]]\n"
          ]
        }
      ],
      "source": [
        "c=np.array([[34,45,22],[34,75,89]])\n",
        "print(c)"
      ]
    },
    {
      "cell_type": "code",
      "execution_count": null,
      "metadata": {
        "id": "jSFtlCKBsYd_"
      },
      "outputs": [],
      "source": [
        "np.add(b,c)"
      ]
    },
    {
      "cell_type": "code",
      "execution_count": null,
      "metadata": {
        "id": "jEwLORrLsZ4W"
      },
      "outputs": [],
      "source": [
        "np.add(a,c)"
      ]
    },
    {
      "cell_type": "code",
      "execution_count": null,
      "metadata": {
        "colab": {
          "base_uri": "https://localhost:8080/"
        },
        "id": "PA_OfbfZsbbE",
        "outputId": "14a6a6e1-b1f6-4a58-c868-8111c95d2d6e"
      },
      "outputs": [
        {
          "output_type": "execute_result",
          "data": {
            "text/plain": [
              "array([[ 27, 110,  72],\n",
              "       [102, 148, 171]])"
            ]
          },
          "metadata": {},
          "execution_count": 136
        }
      ],
      "source": [
        "np.add(a,b,b)"
      ]
    },
    {
      "cell_type": "markdown",
      "metadata": {
        "id": "wnNOd2g8se8t"
      },
      "source": [
        "##**subtract()**"
      ]
    },
    {
      "cell_type": "code",
      "execution_count": null,
      "metadata": {
        "colab": {
          "base_uri": "https://localhost:8080/"
        },
        "id": "o1Z3K30tsdzc",
        "outputId": "83f8b939-440e-4911-c8f7-a9a7179e492b"
      },
      "outputs": [
        {
          "output_type": "execute_result",
          "data": {
            "text/plain": [
              "array([[-15, -65, -38],\n",
              "       [-46, -70, -95]])"
            ]
          },
          "metadata": {},
          "execution_count": 138
        }
      ],
      "source": [
        "np.subtract(a,b)"
      ]
    },
    {
      "cell_type": "code",
      "execution_count": null,
      "metadata": {
        "colab": {
          "base_uri": "https://localhost:8080/"
        },
        "id": "_ygI3XIDsjLx",
        "outputId": "cd24209b-898c-45c1-bc23-5a1f2e3747f9"
      },
      "outputs": [
        {
          "output_type": "execute_result",
          "data": {
            "text/plain": [
              "array([[15, 65, 38],\n",
              "       [46, 70, 95]])"
            ]
          },
          "metadata": {},
          "execution_count": 139
        }
      ],
      "source": [
        "np.subtract(b,a)"
      ]
    },
    {
      "cell_type": "code",
      "execution_count": null,
      "metadata": {
        "colab": {
          "base_uri": "https://localhost:8080/",
          "height": 165
        },
        "id": "PTlKahUWskew",
        "outputId": "a2d76c3f-58f7-464d-c697-529f27bc9b89"
      },
      "outputs": [
        {
          "output_type": "error",
          "ename": "ValueError",
          "evalue": "ignored",
          "traceback": [
            "\u001b[0;31m---------------------------------------------------------------------------\u001b[0m",
            "\u001b[0;31mValueError\u001b[0m                                Traceback (most recent call last)",
            "\u001b[0;32m<ipython-input-150-2ee213958d9c>\u001b[0m in \u001b[0;36m<cell line: 1>\u001b[0;34m()\u001b[0m\n\u001b[0;32m----> 1\u001b[0;31m \u001b[0mnp\u001b[0m\u001b[0;34m.\u001b[0m\u001b[0msubtract\u001b[0m\u001b[0;34m(\u001b[0m\u001b[0ma\u001b[0m\u001b[0;34m,\u001b[0m\u001b[0mb\u001b[0m\u001b[0;34m,\u001b[0m\u001b[0mc\u001b[0m\u001b[0;34m)\u001b[0m\u001b[0;34m\u001b[0m\u001b[0;34m\u001b[0m\u001b[0m\n\u001b[0m",
            "\u001b[0;31mValueError\u001b[0m: operands could not be broadcast together with shapes (2,3) (2,3) (2,6) "
          ]
        }
      ],
      "source": [
        "np.subtract(a,b,c)"
      ]
    },
    {
      "cell_type": "markdown",
      "metadata": {
        "id": "IOaBStZJsm1o"
      },
      "source": [
        "##**multiply()**"
      ]
    },
    {
      "cell_type": "code",
      "execution_count": null,
      "metadata": {
        "colab": {
          "base_uri": "https://localhost:8080/"
        },
        "id": "3_o5lTEJsl3U",
        "outputId": "2cde5ef3-64d2-45af-aa99-9f23e6a95152"
      },
      "outputs": [
        {
          "output_type": "execute_result",
          "data": {
            "text/plain": [
              "array([[  324,  4950,  2448],\n",
              "       [ 5712, 11544, 12996]])"
            ]
          },
          "metadata": {},
          "execution_count": 141
        }
      ],
      "source": [
        "np.multiply(a,b)"
      ]
    },
    {
      "cell_type": "code",
      "execution_count": null,
      "metadata": {
        "colab": {
          "base_uri": "https://localhost:8080/",
          "height": 165
        },
        "id": "7-08eoiustfQ",
        "outputId": "59a2f292-e51a-4bda-f7c8-01ebdf29f7bc"
      },
      "outputs": [
        {
          "output_type": "error",
          "ename": "ValueError",
          "evalue": "ignored",
          "traceback": [
            "\u001b[0;31m---------------------------------------------------------------------------\u001b[0m",
            "\u001b[0;31mValueError\u001b[0m                                Traceback (most recent call last)",
            "\u001b[0;32m<ipython-input-137-5fdbd27f9300>\u001b[0m in \u001b[0;36m<cell line: 1>\u001b[0;34m()\u001b[0m\n\u001b[0;32m----> 1\u001b[0;31m \u001b[0mnp\u001b[0m\u001b[0;34m.\u001b[0m\u001b[0mmultiply\u001b[0m\u001b[0;34m(\u001b[0m\u001b[0ma\u001b[0m\u001b[0;34m,\u001b[0m\u001b[0mb\u001b[0m\u001b[0;34m,\u001b[0m\u001b[0mc\u001b[0m\u001b[0;34m)\u001b[0m\u001b[0;34m\u001b[0m\u001b[0;34m\u001b[0m\u001b[0m\n\u001b[0m",
            "\u001b[0;31mValueError\u001b[0m: operands could not be broadcast together with shapes (2,3) (2,3) (2,6) "
          ]
        }
      ],
      "source": [
        "np.multiply(a,b,c)"
      ]
    },
    {
      "cell_type": "code",
      "execution_count": null,
      "metadata": {
        "colab": {
          "base_uri": "https://localhost:8080/",
          "height": 165
        },
        "id": "_SD8EZ93svI-",
        "outputId": "948a708f-d46b-4c55-cb0d-f4d87f7d4b8e"
      },
      "outputs": [
        {
          "output_type": "error",
          "ename": "ValueError",
          "evalue": "ignored",
          "traceback": [
            "\u001b[0;31m---------------------------------------------------------------------------\u001b[0m",
            "\u001b[0;31mValueError\u001b[0m                                Traceback (most recent call last)",
            "\u001b[0;32m<ipython-input-142-392be6a9058e>\u001b[0m in \u001b[0;36m<cell line: 1>\u001b[0;34m()\u001b[0m\n\u001b[0;32m----> 1\u001b[0;31m \u001b[0mnp\u001b[0m\u001b[0;34m.\u001b[0m\u001b[0mmultiply\u001b[0m\u001b[0;34m(\u001b[0m\u001b[0mb\u001b[0m\u001b[0;34m,\u001b[0m\u001b[0mc\u001b[0m\u001b[0;34m)\u001b[0m\u001b[0;34m\u001b[0m\u001b[0;34m\u001b[0m\u001b[0m\n\u001b[0m",
            "\u001b[0;31mValueError\u001b[0m: operands could not be broadcast together with shapes (2,3) (2,6) "
          ]
        }
      ],
      "source": [
        "np.multiply(b,c)"
      ]
    },
    {
      "cell_type": "markdown",
      "metadata": {
        "id": "7UWnT0zKsxo3"
      },
      "source": [
        "##**divide()**"
      ]
    },
    {
      "cell_type": "code",
      "execution_count": null,
      "metadata": {
        "colab": {
          "base_uri": "https://localhost:8080/"
        },
        "id": "Em-bernNswij",
        "outputId": "10c89dc9-46aa-462c-ecac-f4b6e163b7f8"
      },
      "outputs": [
        {
          "output_type": "execute_result",
          "data": {
            "text/plain": [
              "array([[0.44444444, 0.40909091, 0.47222222],\n",
              "       [0.54901961, 0.52702703, 0.44444444]])"
            ]
          },
          "metadata": {},
          "execution_count": 148
        }
      ],
      "source": [
        "np.divide(a,b)"
      ]
    },
    {
      "cell_type": "code",
      "execution_count": null,
      "metadata": {
        "colab": {
          "base_uri": "https://localhost:8080/",
          "height": 165
        },
        "id": "EMszuKeIs0_B",
        "outputId": "5737f2b0-b81d-4a0d-861a-7b9fd553c993"
      },
      "outputs": [
        {
          "output_type": "error",
          "ename": "ValueError",
          "evalue": "ignored",
          "traceback": [
            "\u001b[0;31m---------------------------------------------------------------------------\u001b[0m",
            "\u001b[0;31mValueError\u001b[0m                                Traceback (most recent call last)",
            "\u001b[0;32m<ipython-input-149-7d93d161c5ec>\u001b[0m in \u001b[0;36m<cell line: 1>\u001b[0;34m()\u001b[0m\n\u001b[0;32m----> 1\u001b[0;31m \u001b[0mnp\u001b[0m\u001b[0;34m.\u001b[0m\u001b[0mdivide\u001b[0m\u001b[0;34m(\u001b[0m\u001b[0mb\u001b[0m\u001b[0;34m,\u001b[0m\u001b[0mc\u001b[0m\u001b[0;34m)\u001b[0m\u001b[0;34m\u001b[0m\u001b[0;34m\u001b[0m\u001b[0m\n\u001b[0m",
            "\u001b[0;31mValueError\u001b[0m: operands could not be broadcast together with shapes (2,3) (2,6) "
          ]
        }
      ],
      "source": [
        "np.divide(b,c)"
      ]
    },
    {
      "cell_type": "code",
      "execution_count": null,
      "metadata": {
        "colab": {
          "base_uri": "https://localhost:8080/",
          "height": 165
        },
        "id": "gSjTlbuqs3HL",
        "outputId": "5fc9563b-2cfe-44a8-edc8-34870120eaac"
      },
      "outputs": [
        {
          "output_type": "error",
          "ename": "ValueError",
          "evalue": "ignored",
          "traceback": [
            "\u001b[0;31m---------------------------------------------------------------------------\u001b[0m",
            "\u001b[0;31mValueError\u001b[0m                                Traceback (most recent call last)",
            "\u001b[0;32m<ipython-input-145-d04c7e0f6296>\u001b[0m in \u001b[0;36m<cell line: 1>\u001b[0;34m()\u001b[0m\n\u001b[0;32m----> 1\u001b[0;31m \u001b[0mnp\u001b[0m\u001b[0;34m.\u001b[0m\u001b[0mdivide\u001b[0m\u001b[0;34m(\u001b[0m\u001b[0ma\u001b[0m\u001b[0;34m,\u001b[0m\u001b[0mc\u001b[0m\u001b[0;34m)\u001b[0m\u001b[0;34m\u001b[0m\u001b[0;34m\u001b[0m\u001b[0m\n\u001b[0m",
            "\u001b[0;31mValueError\u001b[0m: operands could not be broadcast together with shapes (2,3) (2,6) "
          ]
        }
      ],
      "source": [
        "np.divide(a,c)"
      ]
    },
    {
      "cell_type": "markdown",
      "metadata": {
        "id": "Fo01KdX5s5xQ"
      },
      "source": [
        "##**exponential()**"
      ]
    },
    {
      "cell_type": "code",
      "execution_count": null,
      "metadata": {
        "colab": {
          "base_uri": "https://localhost:8080/"
        },
        "id": "UmZaO_9ss4hk",
        "outputId": "cc2fe0cf-2c7b-4661-bb39-58156e917665"
      },
      "outputs": [
        {
          "output_type": "execute_result",
          "data": {
            "text/plain": [
              "array([[1.62754791e+05, 3.49342711e+19, 5.83461743e+14],\n",
              "       [2.09165950e+24, 7.49841700e+33, 1.01480039e+33]])"
            ]
          },
          "metadata": {},
          "execution_count": 146
        }
      ],
      "source": [
        "np.exp(a)"
      ]
    },
    {
      "cell_type": "code",
      "execution_count": null,
      "metadata": {
        "colab": {
          "base_uri": "https://localhost:8080/"
        },
        "id": "h8Phrn2Qs-vt",
        "outputId": "7f9c10c1-c6e9-479b-c7bc-cd883c048e23"
      },
      "outputs": [
        {
          "output_type": "execute_result",
          "data": {
            "text/plain": [
              "array([[5.32048241e+11, 5.92097203e+47, 1.85867175e+31],\n",
              "       [1.98626484e+44, 1.88618081e+64, 1.83804612e+74]])"
            ]
          },
          "metadata": {},
          "execution_count": 151
        }
      ],
      "source": [
        "np.exp(b)"
      ]
    },
    {
      "cell_type": "code",
      "execution_count": null,
      "metadata": {
        "id": "hSpxuknktA-H",
        "colab": {
          "base_uri": "https://localhost:8080/"
        },
        "outputId": "a70821cd-7995-43a4-e369-abdaf7d37f56"
      },
      "outputs": [
        {
          "output_type": "stream",
          "name": "stderr",
          "text": [
            "<ipython-input-152-57f1ac071346>:1: RuntimeWarning: overflow encountered in exp\n",
            "  np.exp(c)\n"
          ]
        },
        {
          "output_type": "execute_result",
          "data": {
            "text/plain": [
              "array([[4.21607925e+101, 1.18022415e+168, 8.84981282e+201,\n",
              "                    inf,             inf, 1.96422332e+087],\n",
              "       [6.63595868e+235, 1.40359222e+217,             inf,\n",
              "        1.31807714e+280,             inf,             inf]])"
            ]
          },
          "metadata": {},
          "execution_count": 152
        }
      ],
      "source": [
        "np.exp(c)"
      ]
    },
    {
      "cell_type": "markdown",
      "metadata": {
        "id": "hDycPfzqtDtH"
      },
      "source": [
        "##**sqrt()**"
      ]
    },
    {
      "cell_type": "code",
      "execution_count": null,
      "metadata": {
        "id": "SlFFmuAWtCyn",
        "colab": {
          "base_uri": "https://localhost:8080/"
        },
        "outputId": "212975f7-c32d-4b2c-ed00-4ccd1cf4c32a"
      },
      "outputs": [
        {
          "output_type": "execute_result",
          "data": {
            "text/plain": [
              "array([[3.46410162, 6.70820393, 5.83095189],\n",
              "       [7.48331477, 8.83176087, 8.71779789]])"
            ]
          },
          "metadata": {},
          "execution_count": 153
        }
      ],
      "source": [
        "np.sqrt(a)"
      ]
    },
    {
      "cell_type": "code",
      "execution_count": null,
      "metadata": {
        "id": "XY8uwDgxtJAf"
      },
      "outputs": [],
      "source": [
        "np.sqrt(b)"
      ]
    },
    {
      "cell_type": "code",
      "execution_count": null,
      "metadata": {
        "id": "LpxxqPkDtKDp"
      },
      "outputs": [],
      "source": [
        "np.sqrt(c)"
      ]
    },
    {
      "cell_type": "markdown",
      "metadata": {
        "id": "_hgN7LV-tsca"
      },
      "source": [
        "##**Comparision**\n",
        "\n",
        "\"=\"is applied in comparision"
      ]
    },
    {
      "cell_type": "code",
      "source": [
        "a"
      ],
      "metadata": {
        "colab": {
          "base_uri": "https://localhost:8080/"
        },
        "id": "eiJzZcMVuTFE",
        "outputId": "9ccc5cc4-2e20-423c-fedc-33ce891143aa"
      },
      "execution_count": null,
      "outputs": [
        {
          "output_type": "execute_result",
          "data": {
            "text/plain": [
              "array([[12, 45, 34],\n",
              "       [56, 78, 76]])"
            ]
          },
          "metadata": {},
          "execution_count": 154
        }
      ]
    },
    {
      "cell_type": "code",
      "execution_count": null,
      "metadata": {
        "id": "Wlev93bctLCL",
        "colab": {
          "base_uri": "https://localhost:8080/"
        },
        "outputId": "f78c46c5-6d77-40f2-a341-807d12fb3d25"
      },
      "outputs": [
        {
          "output_type": "execute_result",
          "data": {
            "text/plain": [
              "array([[ 27, 110,  72],\n",
              "       [102, 148, 171]])"
            ]
          },
          "metadata": {},
          "execution_count": 155
        }
      ],
      "source": [
        "b"
      ]
    },
    {
      "cell_type": "code",
      "source": [
        "c"
      ],
      "metadata": {
        "colab": {
          "base_uri": "https://localhost:8080/"
        },
        "id": "1LQ-DxfFuVOc",
        "outputId": "43733a83-1b8f-47e5-b867-8dff34fe8100"
      },
      "execution_count": null,
      "outputs": [
        {
          "output_type": "execute_result",
          "data": {
            "text/plain": [
              "array([[  324,  4950,  2448],\n",
              "       [ 5712, 11544, 12996]])"
            ]
          },
          "metadata": {},
          "execution_count": 141
        }
      ]
    },
    {
      "cell_type": "code",
      "source": [
        "b[1][0]"
      ],
      "metadata": {
        "colab": {
          "base_uri": "https://localhost:8080/"
        },
        "id": "NqzMXq9-uVkl",
        "outputId": "d3c2ae11-a5cd-45c7-aded-8b77f1c156bb"
      },
      "execution_count": null,
      "outputs": [
        {
          "output_type": "execute_result",
          "data": {
            "text/plain": [
              "102"
            ]
          },
          "metadata": {},
          "execution_count": 156
        }
      ]
    },
    {
      "cell_type": "code",
      "source": [
        "b[1][1]"
      ],
      "metadata": {
        "colab": {
          "base_uri": "https://localhost:8080/"
        },
        "id": "J3_kkIhsuX59",
        "outputId": "59a301b0-cfff-496b-8d7b-58b3706d781b"
      },
      "execution_count": null,
      "outputs": [
        {
          "output_type": "execute_result",
          "data": {
            "text/plain": [
              "148"
            ]
          },
          "metadata": {},
          "execution_count": 157
        }
      ]
    },
    {
      "cell_type": "code",
      "source": [
        "np.array_equal(a,b)"
      ],
      "metadata": {
        "colab": {
          "base_uri": "https://localhost:8080/"
        },
        "id": "oPfSziXguZF0",
        "outputId": "a238055a-b7ef-44e3-be96-4d0562f3a309"
      },
      "execution_count": null,
      "outputs": [
        {
          "output_type": "execute_result",
          "data": {
            "text/plain": [
              "False"
            ]
          },
          "metadata": {},
          "execution_count": 158
        }
      ]
    },
    {
      "cell_type": "code",
      "source": [
        "np.array_equal(b,c)"
      ],
      "metadata": {
        "id": "IbDdht-Guamu",
        "outputId": "865872ea-ad12-4aba-be6c-6f9053538b5a",
        "colab": {
          "base_uri": "https://localhost:8080/"
        }
      },
      "execution_count": null,
      "outputs": [
        {
          "output_type": "execute_result",
          "data": {
            "text/plain": [
              "False"
            ]
          },
          "metadata": {},
          "execution_count": 159
        }
      ]
    },
    {
      "cell_type": "code",
      "source": [
        "np.array_equal(a,c)"
      ],
      "metadata": {
        "id": "NUFAJMaEub-i",
        "outputId": "6fd0d81c-34a8-4bc0-9bd3-db1603a1dc71",
        "colab": {
          "base_uri": "https://localhost:8080/"
        }
      },
      "execution_count": null,
      "outputs": [
        {
          "output_type": "execute_result",
          "data": {
            "text/plain": [
              "False"
            ]
          },
          "metadata": {},
          "execution_count": 160
        }
      ]
    },
    {
      "cell_type": "markdown",
      "source": [
        "#**ARRAY FUNCTIONS**\n"
      ],
      "metadata": {
        "id": "C1jtyt41WqRd"
      }
    },
    {
      "cell_type": "markdown",
      "source": [
        "sum()\n",
        "\n",
        "min()\n",
        "\n",
        "max()\n",
        "\n",
        "mean()\n",
        "\n",
        "median()\n",
        "\n",
        "var()\n",
        "\n",
        "std()\n"
      ],
      "metadata": {
        "id": "j1N1QIoxXLHp"
      }
    },
    {
      "cell_type": "code",
      "source": [
        "a = np.array([[100,200],[300,400],[500,600]])\n",
        "a"
      ],
      "metadata": {
        "colab": {
          "base_uri": "https://localhost:8080/"
        },
        "id": "viH4usA3XnUj",
        "outputId": "9e1b8ae7-148c-4aeb-854d-7399537a4f3c"
      },
      "execution_count": null,
      "outputs": [
        {
          "output_type": "execute_result",
          "data": {
            "text/plain": [
              "array([[100, 200],\n",
              "       [300, 400],\n",
              "       [500, 600]])"
            ]
          },
          "metadata": {},
          "execution_count": 161
        }
      ]
    },
    {
      "cell_type": "markdown",
      "source": [
        "##sum()"
      ],
      "metadata": {
        "id": "AeY5PZUfXbLh"
      }
    },
    {
      "cell_type": "code",
      "source": [
        "np.sum(a)"
      ],
      "metadata": {
        "colab": {
          "base_uri": "https://localhost:8080/"
        },
        "id": "IfHfUq5vXJZR",
        "outputId": "50bc7a0b-d9fa-40b4-c53c-a9275471e56e"
      },
      "execution_count": null,
      "outputs": [
        {
          "output_type": "execute_result",
          "data": {
            "text/plain": [
              "2100"
            ]
          },
          "metadata": {},
          "execution_count": 162
        }
      ]
    },
    {
      "cell_type": "code",
      "source": [
        "np.sum(a,axis=1)"
      ],
      "metadata": {
        "colab": {
          "base_uri": "https://localhost:8080/"
        },
        "id": "rVgfi9zgX0zp",
        "outputId": "a9b8ff19-4c83-4d2d-af60-ab4077927e0a"
      },
      "execution_count": null,
      "outputs": [
        {
          "output_type": "execute_result",
          "data": {
            "text/plain": [
              "array([ 300,  700, 1100])"
            ]
          },
          "metadata": {},
          "execution_count": 163
        }
      ]
    },
    {
      "cell_type": "code",
      "source": [
        "np.sum(a,axis=0)"
      ],
      "metadata": {
        "colab": {
          "base_uri": "https://localhost:8080/"
        },
        "id": "T0Dfi1RMYX3f",
        "outputId": "29ee2508-78dd-4fd8-bef1-58a2dc5c3720"
      },
      "execution_count": null,
      "outputs": [
        {
          "output_type": "execute_result",
          "data": {
            "text/plain": [
              "array([ 900, 1200])"
            ]
          },
          "metadata": {},
          "execution_count": 164
        }
      ]
    },
    {
      "cell_type": "markdown",
      "source": [
        "##min()"
      ],
      "metadata": {
        "id": "IHsc3z4YYgv-"
      }
    },
    {
      "cell_type": "code",
      "source": [
        "np.min(a)"
      ],
      "metadata": {
        "colab": {
          "base_uri": "https://localhost:8080/"
        },
        "id": "0RSGIRDyYcOC",
        "outputId": "de71f793-4131-47eb-b82b-fc8231b6f768"
      },
      "execution_count": null,
      "outputs": [
        {
          "output_type": "execute_result",
          "data": {
            "text/plain": [
              "100"
            ]
          },
          "metadata": {},
          "execution_count": 17
        }
      ]
    },
    {
      "cell_type": "code",
      "source": [
        "np.min(a,axis=1)"
      ],
      "metadata": {
        "colab": {
          "base_uri": "https://localhost:8080/"
        },
        "id": "Q_AV1jH7Yn0B",
        "outputId": "d2f1a381-3686-474f-ca54-094aeef30c7b"
      },
      "execution_count": null,
      "outputs": [
        {
          "output_type": "execute_result",
          "data": {
            "text/plain": [
              "array([100, 300, 500])"
            ]
          },
          "metadata": {},
          "execution_count": 165
        }
      ]
    },
    {
      "cell_type": "code",
      "source": [
        "np.min(a,axis=0)"
      ],
      "metadata": {
        "colab": {
          "base_uri": "https://localhost:8080/"
        },
        "id": "VRWyagXVYr5j",
        "outputId": "e9ac1a54-8eec-4a71-fb94-01b586d6c7d4"
      },
      "execution_count": null,
      "outputs": [
        {
          "output_type": "execute_result",
          "data": {
            "text/plain": [
              "array([100, 200])"
            ]
          },
          "metadata": {},
          "execution_count": 166
        }
      ]
    },
    {
      "cell_type": "markdown",
      "source": [
        "##max()"
      ],
      "metadata": {
        "id": "_PRqDRjLYyDP"
      }
    },
    {
      "cell_type": "code",
      "source": [
        "np.max(a)"
      ],
      "metadata": {
        "colab": {
          "base_uri": "https://localhost:8080/"
        },
        "outputId": "b67e8af9-08b5-43fb-ef01-c721286edbb5",
        "id": "4fb6lgHcZKNr"
      },
      "execution_count": null,
      "outputs": [
        {
          "output_type": "execute_result",
          "data": {
            "text/plain": [
              "600"
            ]
          },
          "metadata": {},
          "execution_count": 167
        }
      ]
    },
    {
      "cell_type": "code",
      "source": [
        "np.max(a,axis=1)"
      ],
      "metadata": {
        "colab": {
          "base_uri": "https://localhost:8080/"
        },
        "outputId": "c7e1bfaf-6fa3-4c07-95f2-1ca90ce470d5",
        "id": "Q7mfdowCZKNs"
      },
      "execution_count": null,
      "outputs": [
        {
          "output_type": "execute_result",
          "data": {
            "text/plain": [
              "array([200, 400, 600])"
            ]
          },
          "metadata": {},
          "execution_count": 168
        }
      ]
    },
    {
      "cell_type": "code",
      "source": [
        "np.max(a,axis=0)"
      ],
      "metadata": {
        "colab": {
          "base_uri": "https://localhost:8080/"
        },
        "outputId": "ba0d4ed7-00fa-48d2-af17-cb52a8ed3bc7",
        "id": "dKD1D105ZKNt"
      },
      "execution_count": null,
      "outputs": [
        {
          "output_type": "execute_result",
          "data": {
            "text/plain": [
              "array([500, 600])"
            ]
          },
          "metadata": {},
          "execution_count": 169
        }
      ]
    },
    {
      "cell_type": "markdown",
      "source": [
        "##mean()"
      ],
      "metadata": {
        "id": "yrb5BLj1Y0fT"
      }
    },
    {
      "cell_type": "code",
      "source": [
        "np.mean(a)"
      ],
      "metadata": {
        "colab": {
          "base_uri": "https://localhost:8080/"
        },
        "outputId": "fcb0f9bd-660e-454a-828c-6878d3b02ed0",
        "id": "4e8aJ1hXZX7q"
      },
      "execution_count": null,
      "outputs": [
        {
          "output_type": "execute_result",
          "data": {
            "text/plain": [
              "350.0"
            ]
          },
          "metadata": {},
          "execution_count": 170
        }
      ]
    },
    {
      "cell_type": "code",
      "source": [
        "np.mean(a,axis=1)"
      ],
      "metadata": {
        "colab": {
          "base_uri": "https://localhost:8080/"
        },
        "outputId": "fc6493a9-74f7-4ecd-926f-d5d9ca268d43",
        "id": "D2j5Fkh3ZX70"
      },
      "execution_count": null,
      "outputs": [
        {
          "output_type": "execute_result",
          "data": {
            "text/plain": [
              "array([150., 350., 550.])"
            ]
          },
          "metadata": {},
          "execution_count": 171
        }
      ]
    },
    {
      "cell_type": "code",
      "source": [
        "np.mean(a,axis=0)"
      ],
      "metadata": {
        "colab": {
          "base_uri": "https://localhost:8080/"
        },
        "outputId": "6c3eff7c-5498-447d-edac-de1e2f29b5c7",
        "id": "rvz3RcbqZX70"
      },
      "execution_count": null,
      "outputs": [
        {
          "output_type": "execute_result",
          "data": {
            "text/plain": [
              "array([300., 400.])"
            ]
          },
          "metadata": {},
          "execution_count": 173
        }
      ]
    },
    {
      "cell_type": "markdown",
      "source": [
        "##median()"
      ],
      "metadata": {
        "id": "AjzpErxkY4IH"
      }
    },
    {
      "cell_type": "code",
      "source": [
        "np.median(a)"
      ],
      "metadata": {
        "colab": {
          "base_uri": "https://localhost:8080/"
        },
        "outputId": "74ecb862-e85a-4cc1-8bf1-ea6cba1fd1ba",
        "id": "9O-CU8RJZlB7"
      },
      "execution_count": null,
      "outputs": [
        {
          "output_type": "execute_result",
          "data": {
            "text/plain": [
              "350.0"
            ]
          },
          "metadata": {},
          "execution_count": 172
        }
      ]
    },
    {
      "cell_type": "code",
      "source": [
        "np.median(a,axis=1)"
      ],
      "metadata": {
        "colab": {
          "base_uri": "https://localhost:8080/"
        },
        "outputId": "d3131ee2-6e32-4a2a-9b2e-a453a5e94a9e",
        "id": "TGRCnJFXZlCt"
      },
      "execution_count": null,
      "outputs": [
        {
          "output_type": "execute_result",
          "data": {
            "text/plain": [
              "array([150., 350., 550.])"
            ]
          },
          "metadata": {},
          "execution_count": 174
        }
      ]
    },
    {
      "cell_type": "code",
      "source": [
        "np.median(a,axis=0)"
      ],
      "metadata": {
        "colab": {
          "base_uri": "https://localhost:8080/"
        },
        "outputId": "72e2b398-672e-4c74-b99f-0060db1cd1f8",
        "id": "ct8tBq0NZlCt"
      },
      "execution_count": null,
      "outputs": [
        {
          "output_type": "execute_result",
          "data": {
            "text/plain": [
              "array([300., 400.])"
            ]
          },
          "metadata": {},
          "execution_count": 175
        }
      ]
    },
    {
      "cell_type": "markdown",
      "source": [
        "##var()\n",
        "\n",
        "***Variance***"
      ],
      "metadata": {
        "id": "zlpF7VM8Y700"
      }
    },
    {
      "cell_type": "code",
      "source": [
        "np.var(a)"
      ],
      "metadata": {
        "colab": {
          "base_uri": "https://localhost:8080/"
        },
        "outputId": "be5d6892-a2b5-4378-8231-696672e8524f",
        "id": "tKSm4AvIx3E6"
      },
      "execution_count": null,
      "outputs": [
        {
          "output_type": "execute_result",
          "data": {
            "text/plain": [
              "29166.666666666668"
            ]
          },
          "metadata": {},
          "execution_count": 176
        }
      ]
    },
    {
      "cell_type": "code",
      "source": [
        "np.var(a,axis=1)"
      ],
      "metadata": {
        "colab": {
          "base_uri": "https://localhost:8080/"
        },
        "outputId": "c7f79be9-c3f6-4367-9906-35d9fd5b9d55",
        "id": "xRjH5Pysx3ip"
      },
      "execution_count": null,
      "outputs": [
        {
          "output_type": "execute_result",
          "data": {
            "text/plain": [
              "array([2500., 2500., 2500.])"
            ]
          },
          "metadata": {},
          "execution_count": 177
        }
      ]
    },
    {
      "cell_type": "code",
      "source": [
        "np.var(a,axis=1)"
      ],
      "metadata": {
        "colab": {
          "base_uri": "https://localhost:8080/"
        },
        "outputId": "b1370175-a590-4e75-803b-ced40f0cbeae",
        "id": "3pemkfCsx3nk"
      },
      "execution_count": null,
      "outputs": [
        {
          "output_type": "execute_result",
          "data": {
            "text/plain": [
              "array([2500., 2500., 2500.])"
            ]
          },
          "metadata": {},
          "execution_count": 178
        }
      ]
    },
    {
      "cell_type": "markdown",
      "source": [
        "##std()\n",
        "\n",
        "***standard deviation***"
      ],
      "metadata": {
        "id": "LFUPLMRGY-IE"
      }
    },
    {
      "cell_type": "code",
      "source": [
        "np.median(a,axis=1)"
      ],
      "metadata": {
        "colab": {
          "base_uri": "https://localhost:8080/"
        },
        "outputId": "e83d502c-2912-4f65-f16b-ca68a5ec4b8f",
        "id": "mdpo_nmWyJeZ"
      },
      "execution_count": null,
      "outputs": [
        {
          "output_type": "execute_result",
          "data": {
            "text/plain": [
              "array([150., 350., 550.])"
            ]
          },
          "metadata": {},
          "execution_count": 179
        }
      ]
    },
    {
      "cell_type": "code",
      "source": [
        "np.median(a,axis=1)"
      ],
      "metadata": {
        "colab": {
          "base_uri": "https://localhost:8080/"
        },
        "outputId": "f84ff26a-255a-4d73-c57c-08e34c742168",
        "id": "r7t1P3BVyJoK"
      },
      "execution_count": null,
      "outputs": [
        {
          "output_type": "execute_result",
          "data": {
            "text/plain": [
              "array([150., 350., 550.])"
            ]
          },
          "metadata": {},
          "execution_count": 180
        }
      ]
    },
    {
      "cell_type": "code",
      "source": [
        "np.median(a,axis=1)"
      ],
      "metadata": {
        "colab": {
          "base_uri": "https://localhost:8080/"
        },
        "outputId": "4cd6c1f7-a6c7-4f10-ba23-b37c1a3db1df",
        "id": "gTBleZd1yJy_"
      },
      "execution_count": null,
      "outputs": [
        {
          "output_type": "execute_result",
          "data": {
            "text/plain": [
              "array([150., 350., 550.])"
            ]
          },
          "metadata": {},
          "execution_count": 181
        }
      ]
    }
  ]
}